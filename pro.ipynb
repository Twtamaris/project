{
 "cells": [
  {
   "cell_type": "code",
   "execution_count": 93,
   "metadata": {},
   "outputs": [],
   "source": [
    "import os\n",
    "import numpy as np\n",
    "import librosa\n",
    "from sklearn.model_selection import train_test_split\n",
    "from sklearn.preprocessing import LabelEncoder\n",
    "from tensorflow.keras import models, layers, utils\n",
    "# import Sequential\n",
    "from tensorflow.keras import Sequential\n",
    "import sounddevice as sd\n",
    "import re\n"
   ]
  },
  {
   "cell_type": "code",
   "execution_count": 110,
   "metadata": {},
   "outputs": [],
   "source": [
    "# Step 1: Data Collection\n",
    "sound_folder = \"hello_split\"\n",
    "words = []\n",
    "sound_data = []\n",
    "# sound_name = ['Miro.', 'Naam.', 'Saurabh.', 'Baral.','ho.','tapai.','Ko.', 'xa.','I.','love.','you.']"
   ]
  },
  {
   "cell_type": "code",
   "execution_count": 111,
   "metadata": {},
   "outputs": [],
   "source": [
    "# Iterate over sound files in the folder\n",
    "for filename in os.listdir(sound_folder):\n",
    "    file_path = os.path.join(sound_folder, filename)\n",
    "    word = filename.split(\".\")[0]  # Extract the word from the filename\n",
    "    # Removes the number and _ from the word Ex. 1_hello.wav -> hello\n",
    "    word = re.sub(r'[^A-Za-z]+', '', word)\n",
    "    if word not in words:\n",
    "        words.append(word)\n",
    "    audio_data, sample_rate = librosa.load(file_path, sr=None)  # Load audio file\n",
    "    sound_data.append(audio_data)"
   ]
  },
  {
   "cell_type": "code",
   "execution_count": 118,
   "metadata": {},
   "outputs": [
    {
     "data": {
      "text/plain": [
       "array([ 0.04330444,  0.04238892,  0.04058838, ..., -0.03952026,\n",
       "       -0.03607178, -0.03314209], dtype=float32)"
      ]
     },
     "execution_count": 118,
     "metadata": {},
     "output_type": "execute_result"
    }
   ],
   "source": [
    "audio_data"
   ]
  },
  {
   "cell_type": "code",
   "execution_count": 54,
   "metadata": {},
   "outputs": [],
   "source": [
    "# Step 2: Preprocessing\n",
    "label_encoder = LabelEncoder()\n",
    "labels = label_encoder.fit_transform(words)\n",
    "sound_data = [librosa.feature.mfcc(y=data, sr=sample_rate) for data in sound_data]"
   ]
  },
  {
   "cell_type": "code",
   "execution_count": 55,
   "metadata": {},
   "outputs": [
    {
     "data": {
      "text/plain": [
       "(14,)"
      ]
     },
     "execution_count": 55,
     "metadata": {},
     "output_type": "execute_result"
    }
   ],
   "source": [
    "labels.shape"
   ]
  },
  {
   "cell_type": "code",
   "execution_count": 56,
   "metadata": {},
   "outputs": [
    {
     "data": {
      "text/plain": [
       "14"
      ]
     },
     "execution_count": 56,
     "metadata": {},
     "output_type": "execute_result"
    }
   ],
   "source": [
    "len(sound_data)"
   ]
  },
  {
   "cell_type": "code",
   "execution_count": 57,
   "metadata": {},
   "outputs": [
    {
     "data": {
      "text/plain": [
       "[array([[-6.2614807e+02, -6.2614807e+02, -6.2614807e+02, ...,\n",
       "         -3.4769238e+02, -3.5615570e+02, -4.2055841e+02],\n",
       "        [ 0.0000000e+00,  0.0000000e+00,  0.0000000e+00, ...,\n",
       "          1.7945123e+02,  1.7194107e+02,  1.4836133e+02],\n",
       "        [ 0.0000000e+00,  0.0000000e+00,  0.0000000e+00, ...,\n",
       "         -2.2997681e+01, -1.9970545e+01, -8.0884438e+00],\n",
       "        ...,\n",
       "        [ 0.0000000e+00,  0.0000000e+00,  0.0000000e+00, ...,\n",
       "         -8.3571301e+00, -6.0509596e+00, -6.1979780e+00],\n",
       "        [ 0.0000000e+00,  0.0000000e+00,  0.0000000e+00, ...,\n",
       "         -1.1280119e+01, -3.8040481e+00,  3.1977230e-01],\n",
       "        [ 0.0000000e+00,  0.0000000e+00,  0.0000000e+00, ...,\n",
       "         -3.9512634e-01,  5.2454481e+00,  5.4574995e+00]], dtype=float32),\n",
       " array([[-581.26733  , -581.26733  , -581.26733  , ..., -362.37054  ,\n",
       "         -364.9951   , -405.26328  ],\n",
       "        [   0.       ,    0.       ,    0.       , ...,  164.43127  ,\n",
       "          164.48148  ,  151.402    ],\n",
       "        [   0.       ,    0.       ,    0.       , ...,    3.4475954,\n",
       "            4.3080297,   13.415983 ],\n",
       "        ...,\n",
       "        [   0.       ,    0.       ,    0.       , ...,   -8.579771 ,\n",
       "           -2.5458415,   -3.2805707],\n",
       "        [   0.       ,    0.       ,    0.       , ...,   -5.895159 ,\n",
       "            1.2058537,    3.3213947],\n",
       "        [   0.       ,    0.       ,    0.       , ...,   -0.8081338,\n",
       "            4.5137115,    7.8552656]], dtype=float32),\n",
       " array([[-5.9766925e+02, -5.9766925e+02, -5.9766925e+02, ...,\n",
       "         -3.7381323e+02, -4.4225748e+02, -5.9185461e+02],\n",
       "        [ 0.0000000e+00,  0.0000000e+00,  0.0000000e+00, ...,\n",
       "          1.6737338e+02,  1.4075687e+02,  7.1316395e+00],\n",
       "        [ 0.0000000e+00,  0.0000000e+00,  0.0000000e+00, ...,\n",
       "         -4.8176861e+00,  1.7183540e+01,  5.0278740e+00],\n",
       "        ...,\n",
       "        [ 0.0000000e+00,  0.0000000e+00,  0.0000000e+00, ...,\n",
       "         -4.3937249e+00,  8.3565348e-01,  2.1736884e+00],\n",
       "        [ 0.0000000e+00,  0.0000000e+00,  0.0000000e+00, ...,\n",
       "         -4.7885199e+00,  9.1536313e-01,  1.2004921e+00],\n",
       "        [ 0.0000000e+00,  0.0000000e+00,  0.0000000e+00, ...,\n",
       "          3.0382495e+00,  1.0924897e+00, -3.7812597e-01]], dtype=float32),\n",
       " array([[-5.4867371e+02, -5.4867371e+02, -5.4867371e+02, ...,\n",
       "         -3.5161673e+02, -3.7168436e+02, -4.3171841e+02],\n",
       "        [ 0.0000000e+00,  0.0000000e+00,  0.0000000e+00, ...,\n",
       "          1.5506644e+02,  1.4313480e+02,  1.1537703e+02],\n",
       "        [ 0.0000000e+00,  0.0000000e+00,  0.0000000e+00, ...,\n",
       "          2.1070523e+00,  9.6571684e+00,  3.0933084e+01],\n",
       "        ...,\n",
       "        [ 0.0000000e+00,  0.0000000e+00,  0.0000000e+00, ...,\n",
       "         -6.1794028e+00, -8.3856297e+00, -9.7291336e+00],\n",
       "        [ 0.0000000e+00,  0.0000000e+00,  0.0000000e+00, ...,\n",
       "         -8.4538879e+00, -8.0083475e+00, -5.7661505e+00],\n",
       "        [ 0.0000000e+00,  0.0000000e+00,  0.0000000e+00, ...,\n",
       "          1.8382102e-01, -7.5108624e-01, -7.7920449e-01]], dtype=float32),\n",
       " array([[-5.6776324e+02, -5.6776324e+02, -5.6776324e+02, ...,\n",
       "         -3.3961874e+02, -3.4238342e+02, -3.7614740e+02],\n",
       "        [ 0.0000000e+00,  0.0000000e+00,  0.0000000e+00, ...,\n",
       "          1.6314133e+02,  1.5973283e+02,  1.4354034e+02],\n",
       "        [ 0.0000000e+00,  0.0000000e+00,  0.0000000e+00, ...,\n",
       "         -1.1312025e+01, -1.0289452e+01, -1.2807938e+00],\n",
       "        ...,\n",
       "        [ 0.0000000e+00,  0.0000000e+00,  0.0000000e+00, ...,\n",
       "         -9.3762465e+00, -1.0016153e+01, -1.2420628e+01],\n",
       "        [ 0.0000000e+00,  0.0000000e+00,  0.0000000e+00, ...,\n",
       "         -8.3608866e+00, -6.4998569e+00, -8.1484661e+00],\n",
       "        [ 0.0000000e+00,  0.0000000e+00,  0.0000000e+00, ...,\n",
       "          1.8022847e+00,  7.7164531e-01, -6.6730976e-03]], dtype=float32),\n",
       " array([[-587.9324   , -587.9324   , -587.9324   , ..., -376.10065  ,\n",
       "         -419.87183  , -537.0199   ],\n",
       "        [   0.       ,    0.       ,    0.       , ...,  159.26276  ,\n",
       "          140.83705  ,   56.502796 ],\n",
       "        [   0.       ,    0.       ,    0.       , ...,    1.6058924,\n",
       "           11.691509 ,   24.51565  ],\n",
       "        ...,\n",
       "        [   0.       ,    0.       ,    0.       , ...,   -3.3599136,\n",
       "           -5.621077 ,   -2.944676 ],\n",
       "        [   0.       ,    0.       ,    0.       , ...,   -9.628368 ,\n",
       "          -16.188606 ,   -6.619752 ],\n",
       "        [   0.       ,    0.       ,    0.       , ...,   -3.1704807,\n",
       "           -7.5466638,   -4.472275 ]], dtype=float32),\n",
       " array([[-568.1461   , -568.1461   , -568.1461   , ..., -350.16873  ,\n",
       "         -405.2227   , -523.9622   ],\n",
       "        [   0.       ,    0.       ,    0.       , ...,  170.75626  ,\n",
       "          145.15979  ,   48.181263 ],\n",
       "        [   0.       ,    0.       ,    0.       , ...,   -2.7984254,\n",
       "           15.473655 ,   17.545483 ],\n",
       "        ...,\n",
       "        [   0.       ,    0.       ,    0.       , ...,   -6.2324185,\n",
       "           -5.2197104,    5.2563205],\n",
       "        [   0.       ,    0.       ,    0.       , ...,   -5.923806 ,\n",
       "           -5.0037174,    4.564062 ],\n",
       "        [   0.       ,    0.       ,    0.       , ...,   -1.9594896,\n",
       "           -4.268995 ,    5.7087293]], dtype=float32),\n",
       " array([[-586.01953  , -586.01953  , -586.01953  , ..., -375.70667  ,\n",
       "         -409.10327  , -518.1706   ],\n",
       "        [   0.       ,    0.       ,    0.       , ...,  161.9852   ,\n",
       "          144.84781  ,   73.19974  ],\n",
       "        [   0.       ,    0.       ,    0.       , ...,   -7.563178 ,\n",
       "            3.6621113,   26.832087 ],\n",
       "        ...,\n",
       "        [   0.       ,    0.       ,    0.       , ...,  -11.755545 ,\n",
       "           -7.500799 ,   -3.999377 ],\n",
       "        [   0.       ,    0.       ,    0.       , ...,  -11.510188 ,\n",
       "           -5.665604 ,   -3.4071095],\n",
       "        [   0.       ,    0.       ,    0.       , ...,   -5.8739223,\n",
       "           -1.4131964,   -1.5806835]], dtype=float32),\n",
       " array([[-5.8356335e+02, -5.8356335e+02, -5.8356335e+02, ...,\n",
       "         -3.4279434e+02, -3.4373019e+02, -3.8339410e+02],\n",
       "        [ 0.0000000e+00,  0.0000000e+00,  0.0000000e+00, ...,\n",
       "          1.8214960e+02,  1.8903659e+02,  1.7360005e+02],\n",
       "        [ 0.0000000e+00,  0.0000000e+00,  0.0000000e+00, ...,\n",
       "         -6.7992239e+00, -3.7924566e+00,  1.0822831e+01],\n",
       "        ...,\n",
       "        [ 0.0000000e+00,  0.0000000e+00,  0.0000000e+00, ...,\n",
       "         -5.9818339e+00, -3.0174646e+00,  8.0252856e-01],\n",
       "        [ 0.0000000e+00,  0.0000000e+00,  0.0000000e+00, ...,\n",
       "         -4.2758932e+00, -6.6879377e+00, -1.0934205e+00],\n",
       "        [ 0.0000000e+00,  0.0000000e+00,  0.0000000e+00, ...,\n",
       "         -1.1809146e+00, -3.5524862e+00,  3.0635679e-01]], dtype=float32),\n",
       " array([[-6.2026666e+02, -6.2026666e+02, -6.2026666e+02, ...,\n",
       "         -3.6319366e+02, -4.1289874e+02, -5.6188013e+02],\n",
       "        [ 0.0000000e+00,  0.0000000e+00,  0.0000000e+00, ...,\n",
       "          1.8336760e+02,  1.6460654e+02,  6.7643112e+01],\n",
       "        [ 0.0000000e+00,  0.0000000e+00,  0.0000000e+00, ...,\n",
       "         -1.0831085e+01,  2.7944453e+00,  3.4633057e+01],\n",
       "        ...,\n",
       "        [ 0.0000000e+00,  0.0000000e+00,  0.0000000e+00, ...,\n",
       "          1.8124175e+00, -4.5488930e-01,  9.6463287e-01],\n",
       "        [ 0.0000000e+00,  0.0000000e+00,  0.0000000e+00, ...,\n",
       "          6.1586732e-01, -3.2149999e+00, -1.0918717e+00],\n",
       "        [ 0.0000000e+00,  0.0000000e+00,  0.0000000e+00, ...,\n",
       "          4.5132618e+00,  1.5901225e+00,  1.0839970e+00]], dtype=float32),\n",
       " array([[-568.8487   , -568.8487   , -568.8487   , ..., -342.96136  ,\n",
       "         -359.5377   , -424.37015  ],\n",
       "        [   0.       ,    0.       ,    0.       , ...,  171.1459   ,\n",
       "          163.09732  ,  130.021    ],\n",
       "        [   0.       ,    0.       ,    0.       , ...,   -9.145193 ,\n",
       "           -9.589254 ,   11.241445 ],\n",
       "        ...,\n",
       "        [   0.       ,    0.       ,    0.       , ...,   -6.2353706,\n",
       "           -6.188655 ,   -7.13321  ],\n",
       "        [   0.       ,    0.       ,    0.       , ...,  -10.335238 ,\n",
       "          -10.468936 ,   -6.5330048],\n",
       "        [   0.       ,    0.       ,    0.       , ...,   -8.43391  ,\n",
       "          -13.367949 ,  -10.09948  ]], dtype=float32),\n",
       " array([[-5.4082751e+02, -5.4082751e+02, -5.4082751e+02, ...,\n",
       "         -3.2353632e+02, -3.2477625e+02, -3.6712015e+02],\n",
       "        [ 0.0000000e+00,  0.0000000e+00,  0.0000000e+00, ...,\n",
       "          1.7001907e+02,  1.7178125e+02,  1.5093509e+02],\n",
       "        [ 0.0000000e+00,  0.0000000e+00,  0.0000000e+00, ...,\n",
       "         -2.4528999e+00,  2.4662992e-01,  1.1115522e+01],\n",
       "        ...,\n",
       "        [ 0.0000000e+00,  0.0000000e+00,  0.0000000e+00, ...,\n",
       "         -3.0259209e+00, -1.6747224e-01,  4.4817505e+00],\n",
       "        [ 0.0000000e+00,  0.0000000e+00,  0.0000000e+00, ...,\n",
       "         -7.5984836e-02, -7.1089953e-01,  4.9021673e+00],\n",
       "        [ 0.0000000e+00,  0.0000000e+00,  0.0000000e+00, ...,\n",
       "          8.1761427e+00,  3.2356577e+00,  1.9126456e+00]], dtype=float32),\n",
       " array([[-5.7717633e+02, -5.7717633e+02, -5.7717633e+02, ...,\n",
       "         -3.6652533e+02, -4.3389639e+02, -5.7697833e+02],\n",
       "        [ 0.0000000e+00,  0.0000000e+00,  0.0000000e+00, ...,\n",
       "          1.4595978e+02,  1.1842316e+02,  2.7988636e-01],\n",
       "        [ 0.0000000e+00,  0.0000000e+00,  0.0000000e+00, ...,\n",
       "         -1.3108778e+01,  8.3014755e+00,  2.7947122e-01],\n",
       "        ...,\n",
       "        [ 0.0000000e+00,  0.0000000e+00,  0.0000000e+00, ...,\n",
       "         -6.5690174e+00, -8.0058117e+00,  2.4119902e-01],\n",
       "        [ 0.0000000e+00,  0.0000000e+00,  0.0000000e+00, ...,\n",
       "         -9.0200472e-01,  5.3850455e+00,  2.3666269e-01],\n",
       "        [ 0.0000000e+00,  0.0000000e+00,  0.0000000e+00, ...,\n",
       "          9.2417316e+00,  1.1351410e+01,  2.3190516e-01]], dtype=float32),\n",
       " array([[-5.7560608e+02, -5.7560608e+02, -5.7560608e+02, ...,\n",
       "         -3.4090756e+02, -3.5019580e+02, -4.0299707e+02],\n",
       "        [ 0.0000000e+00,  0.0000000e+00,  0.0000000e+00, ...,\n",
       "          1.7663278e+02,  1.7013913e+02,  1.4810632e+02],\n",
       "        [ 0.0000000e+00,  0.0000000e+00,  0.0000000e+00, ...,\n",
       "          4.4665813e+00,  8.9676113e+00,  2.7072140e+01],\n",
       "        ...,\n",
       "        [ 0.0000000e+00,  0.0000000e+00,  0.0000000e+00, ...,\n",
       "         -2.8201213e+00, -5.9688921e+00, -3.7013441e-01],\n",
       "        [ 0.0000000e+00,  0.0000000e+00,  0.0000000e+00, ...,\n",
       "         -1.7435111e+00, -3.0288019e+00,  6.3399309e-01],\n",
       "        [ 0.0000000e+00,  0.0000000e+00,  0.0000000e+00, ...,\n",
       "          2.4219904e+00,  1.0829861e+00, -5.7326612e+00]], dtype=float32)]"
      ]
     },
     "execution_count": 57,
     "metadata": {},
     "output_type": "execute_result"
    }
   ],
   "source": [
    "sound_data"
   ]
  },
  {
   "cell_type": "code",
   "execution_count": 58,
   "metadata": {},
   "outputs": [
    {
     "data": {
      "text/plain": [
       "array([[-6.2614807e+02, -6.2614807e+02, -6.2614807e+02, ...,\n",
       "        -3.4769238e+02, -3.5615570e+02, -4.2055841e+02],\n",
       "       [ 0.0000000e+00,  0.0000000e+00,  0.0000000e+00, ...,\n",
       "         1.7945123e+02,  1.7194107e+02,  1.4836133e+02],\n",
       "       [ 0.0000000e+00,  0.0000000e+00,  0.0000000e+00, ...,\n",
       "        -2.2997681e+01, -1.9970545e+01, -8.0884438e+00],\n",
       "       ...,\n",
       "       [ 0.0000000e+00,  0.0000000e+00,  0.0000000e+00, ...,\n",
       "        -8.3571301e+00, -6.0509596e+00, -6.1979780e+00],\n",
       "       [ 0.0000000e+00,  0.0000000e+00,  0.0000000e+00, ...,\n",
       "        -1.1280119e+01, -3.8040481e+00,  3.1977230e-01],\n",
       "       [ 0.0000000e+00,  0.0000000e+00,  0.0000000e+00, ...,\n",
       "        -3.9512634e-01,  5.2454481e+00,  5.4574995e+00]], dtype=float32)"
      ]
     },
     "execution_count": 58,
     "metadata": {},
     "output_type": "execute_result"
    }
   ],
   "source": [
    "sound_data[0]"
   ]
  },
  {
   "cell_type": "code",
   "execution_count": 59,
   "metadata": {},
   "outputs": [
    {
     "data": {
      "text/plain": [
       "(20, 77)"
      ]
     },
     "execution_count": 59,
     "metadata": {},
     "output_type": "execute_result"
    }
   ],
   "source": [
    "sound_data[0].shape"
   ]
  },
  {
   "cell_type": "code",
   "execution_count": 60,
   "metadata": {},
   "outputs": [],
   "source": [
    "# Split the dataset into training and testing sets"
   ]
  },
  {
   "cell_type": "code",
   "execution_count": 61,
   "metadata": {},
   "outputs": [
    {
     "name": "stdout",
     "output_type": "stream",
     "text": [
      "[[[-626.14807129 -626.14807129 -626.14807129 ...    0.\n",
      "      0.            0.        ]\n",
      "  [   0.            0.            0.         ...    0.\n",
      "      0.            0.        ]\n",
      "  [   0.            0.            0.         ...    0.\n",
      "      0.            0.        ]\n",
      "  ...\n",
      "  [   0.            0.            0.         ...    0.\n",
      "      0.            0.        ]\n",
      "  [   0.            0.            0.         ...    0.\n",
      "      0.            0.        ]\n",
      "  [   0.            0.            0.         ...    0.\n",
      "      0.            0.        ]]\n",
      "\n",
      " [[-581.26733398 -581.26733398 -581.26733398 ...    0.\n",
      "      0.            0.        ]\n",
      "  [   0.            0.            0.         ...    0.\n",
      "      0.            0.        ]\n",
      "  [   0.            0.            0.         ...    0.\n",
      "      0.            0.        ]\n",
      "  ...\n",
      "  [   0.            0.            0.         ...    0.\n",
      "      0.            0.        ]\n",
      "  [   0.            0.            0.         ...    0.\n",
      "      0.            0.        ]\n",
      "  [   0.            0.            0.         ...    0.\n",
      "      0.            0.        ]]\n",
      "\n",
      " [[-597.66925049 -597.66925049 -597.66925049 ...    0.\n",
      "      0.            0.        ]\n",
      "  [   0.            0.            0.         ...    0.\n",
      "      0.            0.        ]\n",
      "  [   0.            0.            0.         ...    0.\n",
      "      0.            0.        ]\n",
      "  ...\n",
      "  [   0.            0.            0.         ...    0.\n",
      "      0.            0.        ]\n",
      "  [   0.            0.            0.         ...    0.\n",
      "      0.            0.        ]\n",
      "  [   0.            0.            0.         ...    0.\n",
      "      0.            0.        ]]\n",
      "\n",
      " ...\n",
      "\n",
      " [[-540.82751465 -540.82751465 -540.82751465 ...    0.\n",
      "      0.            0.        ]\n",
      "  [   0.            0.            0.         ...    0.\n",
      "      0.            0.        ]\n",
      "  [   0.            0.            0.         ...    0.\n",
      "      0.            0.        ]\n",
      "  ...\n",
      "  [   0.            0.            0.         ...    0.\n",
      "      0.            0.        ]\n",
      "  [   0.            0.            0.         ...    0.\n",
      "      0.            0.        ]\n",
      "  [   0.            0.            0.         ...    0.\n",
      "      0.            0.        ]]\n",
      "\n",
      " [[-577.17633057 -577.17633057 -577.17633057 ...    0.\n",
      "      0.            0.        ]\n",
      "  [   0.            0.            0.         ...    0.\n",
      "      0.            0.        ]\n",
      "  [   0.            0.            0.         ...    0.\n",
      "      0.            0.        ]\n",
      "  ...\n",
      "  [   0.            0.            0.         ...    0.\n",
      "      0.            0.        ]\n",
      "  [   0.            0.            0.         ...    0.\n",
      "      0.            0.        ]\n",
      "  [   0.            0.            0.         ...    0.\n",
      "      0.            0.        ]]\n",
      "\n",
      " [[-575.6060791  -575.6060791  -575.6060791  ...    0.\n",
      "      0.            0.        ]\n",
      "  [   0.            0.            0.         ...    0.\n",
      "      0.            0.        ]\n",
      "  [   0.            0.            0.         ...    0.\n",
      "      0.            0.        ]\n",
      "  ...\n",
      "  [   0.            0.            0.         ...    0.\n",
      "      0.            0.        ]\n",
      "  [   0.            0.            0.         ...    0.\n",
      "      0.            0.        ]\n",
      "  [   0.            0.            0.         ...    0.\n",
      "      0.            0.        ]]]\n"
     ]
    }
   ],
   "source": [
    "import numpy as np\n",
    "\n",
    "# Determine the maximum length of the arrays in x_train\n",
    "max_length = max(data.shape[1] for data in sound_data)\n",
    "\n",
    "# Pad the sequences to the maximum length\n",
    "padded_x_train = []\n",
    "for data in sound_data:\n",
    "    if data.shape[1] < max_length:\n",
    "        padding = np.zeros((data.shape[0], max_length - data.shape[1]))\n",
    "        padded_data = np.concatenate([data, padding], axis=1)\n",
    "    else:\n",
    "        padded_data = data\n",
    "    padded_x_train.append(padded_data)\n",
    "\n",
    "# Convert padded_x_train to a NumPy array\n",
    "padded_x_train = np.array(padded_x_train)\n",
    "\n",
    "# Print the padded sequences\n",
    "print(padded_x_train)\n"
   ]
  },
  {
   "cell_type": "code",
   "execution_count": 62,
   "metadata": {},
   "outputs": [],
   "source": [
    "sound_data = padded_x_train"
   ]
  },
  {
   "cell_type": "code",
   "execution_count": 63,
   "metadata": {},
   "outputs": [
    {
     "data": {
      "text/plain": [
       "(14, 20, 199)"
      ]
     },
     "execution_count": 63,
     "metadata": {},
     "output_type": "execute_result"
    }
   ],
   "source": [
    "sound_data.shape"
   ]
  },
  {
   "cell_type": "code",
   "execution_count": 64,
   "metadata": {},
   "outputs": [
    {
     "data": {
      "text/plain": [
       "array([[[-626.14807129, -626.14807129, -626.14807129, ...,\n",
       "            0.        ,    0.        ,    0.        ],\n",
       "        [   0.        ,    0.        ,    0.        , ...,\n",
       "            0.        ,    0.        ,    0.        ],\n",
       "        [   0.        ,    0.        ,    0.        , ...,\n",
       "            0.        ,    0.        ,    0.        ],\n",
       "        ...,\n",
       "        [   0.        ,    0.        ,    0.        , ...,\n",
       "            0.        ,    0.        ,    0.        ],\n",
       "        [   0.        ,    0.        ,    0.        , ...,\n",
       "            0.        ,    0.        ,    0.        ],\n",
       "        [   0.        ,    0.        ,    0.        , ...,\n",
       "            0.        ,    0.        ,    0.        ]],\n",
       "\n",
       "       [[-581.26733398, -581.26733398, -581.26733398, ...,\n",
       "            0.        ,    0.        ,    0.        ],\n",
       "        [   0.        ,    0.        ,    0.        , ...,\n",
       "            0.        ,    0.        ,    0.        ],\n",
       "        [   0.        ,    0.        ,    0.        , ...,\n",
       "            0.        ,    0.        ,    0.        ],\n",
       "        ...,\n",
       "        [   0.        ,    0.        ,    0.        , ...,\n",
       "            0.        ,    0.        ,    0.        ],\n",
       "        [   0.        ,    0.        ,    0.        , ...,\n",
       "            0.        ,    0.        ,    0.        ],\n",
       "        [   0.        ,    0.        ,    0.        , ...,\n",
       "            0.        ,    0.        ,    0.        ]],\n",
       "\n",
       "       [[-597.66925049, -597.66925049, -597.66925049, ...,\n",
       "            0.        ,    0.        ,    0.        ],\n",
       "        [   0.        ,    0.        ,    0.        , ...,\n",
       "            0.        ,    0.        ,    0.        ],\n",
       "        [   0.        ,    0.        ,    0.        , ...,\n",
       "            0.        ,    0.        ,    0.        ],\n",
       "        ...,\n",
       "        [   0.        ,    0.        ,    0.        , ...,\n",
       "            0.        ,    0.        ,    0.        ],\n",
       "        [   0.        ,    0.        ,    0.        , ...,\n",
       "            0.        ,    0.        ,    0.        ],\n",
       "        [   0.        ,    0.        ,    0.        , ...,\n",
       "            0.        ,    0.        ,    0.        ]],\n",
       "\n",
       "       ...,\n",
       "\n",
       "       [[-540.82751465, -540.82751465, -540.82751465, ...,\n",
       "            0.        ,    0.        ,    0.        ],\n",
       "        [   0.        ,    0.        ,    0.        , ...,\n",
       "            0.        ,    0.        ,    0.        ],\n",
       "        [   0.        ,    0.        ,    0.        , ...,\n",
       "            0.        ,    0.        ,    0.        ],\n",
       "        ...,\n",
       "        [   0.        ,    0.        ,    0.        , ...,\n",
       "            0.        ,    0.        ,    0.        ],\n",
       "        [   0.        ,    0.        ,    0.        , ...,\n",
       "            0.        ,    0.        ,    0.        ],\n",
       "        [   0.        ,    0.        ,    0.        , ...,\n",
       "            0.        ,    0.        ,    0.        ]],\n",
       "\n",
       "       [[-577.17633057, -577.17633057, -577.17633057, ...,\n",
       "            0.        ,    0.        ,    0.        ],\n",
       "        [   0.        ,    0.        ,    0.        , ...,\n",
       "            0.        ,    0.        ,    0.        ],\n",
       "        [   0.        ,    0.        ,    0.        , ...,\n",
       "            0.        ,    0.        ,    0.        ],\n",
       "        ...,\n",
       "        [   0.        ,    0.        ,    0.        , ...,\n",
       "            0.        ,    0.        ,    0.        ],\n",
       "        [   0.        ,    0.        ,    0.        , ...,\n",
       "            0.        ,    0.        ,    0.        ],\n",
       "        [   0.        ,    0.        ,    0.        , ...,\n",
       "            0.        ,    0.        ,    0.        ]],\n",
       "\n",
       "       [[-575.6060791 , -575.6060791 , -575.6060791 , ...,\n",
       "            0.        ,    0.        ,    0.        ],\n",
       "        [   0.        ,    0.        ,    0.        , ...,\n",
       "            0.        ,    0.        ,    0.        ],\n",
       "        [   0.        ,    0.        ,    0.        , ...,\n",
       "            0.        ,    0.        ,    0.        ],\n",
       "        ...,\n",
       "        [   0.        ,    0.        ,    0.        , ...,\n",
       "            0.        ,    0.        ,    0.        ],\n",
       "        [   0.        ,    0.        ,    0.        , ...,\n",
       "            0.        ,    0.        ,    0.        ],\n",
       "        [   0.        ,    0.        ,    0.        , ...,\n",
       "            0.        ,    0.        ,    0.        ]]])"
      ]
     },
     "execution_count": 64,
     "metadata": {},
     "output_type": "execute_result"
    }
   ],
   "source": [
    "sound_data"
   ]
  },
  {
   "cell_type": "code",
   "execution_count": 65,
   "metadata": {},
   "outputs": [
    {
     "data": {
      "text/plain": [
       "array([[0., 0., 0., 0., 0., 0., 0., 0., 0., 0., 0., 1., 0., 0.],\n",
       "       [1., 0., 0., 0., 0., 0., 0., 0., 0., 0., 0., 0., 0., 0.],\n",
       "       [0., 1., 0., 0., 0., 0., 0., 0., 0., 0., 0., 0., 0., 0.],\n",
       "       [0., 0., 1., 0., 0., 0., 0., 0., 0., 0., 0., 0., 0., 0.],\n",
       "       [0., 0., 0., 1., 0., 0., 0., 0., 0., 0., 0., 0., 0., 0.],\n",
       "       [0., 0., 0., 0., 1., 0., 0., 0., 0., 0., 0., 0., 0., 0.],\n",
       "       [0., 0., 0., 0., 0., 1., 0., 0., 0., 0., 0., 0., 0., 0.],\n",
       "       [0., 0., 0., 0., 0., 0., 1., 0., 0., 0., 0., 0., 0., 0.],\n",
       "       [0., 0., 0., 0., 0., 0., 0., 1., 0., 0., 0., 0., 0., 0.],\n",
       "       [0., 0., 0., 0., 0., 0., 0., 0., 1., 0., 0., 0., 0., 0.],\n",
       "       [0., 0., 0., 0., 0., 0., 0., 0., 0., 1., 0., 0., 0., 0.],\n",
       "       [0., 0., 0., 0., 0., 0., 0., 0., 0., 0., 1., 0., 0., 0.],\n",
       "       [0., 0., 0., 0., 0., 0., 0., 0., 0., 0., 0., 0., 1., 0.],\n",
       "       [0., 0., 0., 0., 0., 0., 0., 0., 0., 0., 0., 0., 0., 1.]],\n",
       "      dtype=float32)"
      ]
     },
     "execution_count": 65,
     "metadata": {},
     "output_type": "execute_result"
    }
   ],
   "source": [
    "new_label = utils.to_categorical(labels, num_classes=len(label_encoder.classes_))\n",
    "new_label"
   ]
  },
  {
   "cell_type": "code",
   "execution_count": 66,
   "metadata": {},
   "outputs": [],
   "source": [
    "x_train, x_test, y_train, y_test = train_test_split(sound_data, labels, test_size=0.2, random_state=42)\n"
   ]
  },
  {
   "cell_type": "code",
   "execution_count": 67,
   "metadata": {},
   "outputs": [
    {
     "data": {
      "text/plain": [
       "((11, 20, 199), (3, 20, 199), (11,), (3,))"
      ]
     },
     "execution_count": 67,
     "metadata": {},
     "output_type": "execute_result"
    }
   ],
   "source": [
    "x_train.shape, x_test.shape, y_train.shape, y_test.shape"
   ]
  },
  {
   "cell_type": "code",
   "execution_count": 68,
   "metadata": {},
   "outputs": [
    {
     "data": {
      "text/plain": [
       "12"
      ]
     },
     "execution_count": 68,
     "metadata": {},
     "output_type": "execute_result"
    }
   ],
   "source": [
    "y_train[0]"
   ]
  },
  {
   "cell_type": "code",
   "execution_count": 69,
   "metadata": {},
   "outputs": [
    {
     "data": {
      "text/plain": [
       "(20, 199)"
      ]
     },
     "execution_count": 69,
     "metadata": {},
     "output_type": "execute_result"
    }
   ],
   "source": [
    "padded_x_train[1].shape"
   ]
  },
  {
   "cell_type": "code",
   "execution_count": null,
   "metadata": {},
   "outputs": [],
   "source": []
  },
  {
   "cell_type": "code",
   "execution_count": 70,
   "metadata": {},
   "outputs": [],
   "source": [
    "# y_train = utils.to_categorical(y_train, num_classes=len(label_encoder.classes_))\n",
    "# y_test = utils.to_categorical(y_test, num_classes=len(label_encoder.classes_))"
   ]
  },
  {
   "cell_type": "code",
   "execution_count": 71,
   "metadata": {},
   "outputs": [
    {
     "data": {
      "text/plain": [
       "(array([12,  4,  7,  1,  0, 13,  3,  6,  9,  2,  5], dtype=int64),\n",
       " array([ 8, 10, 11], dtype=int64))"
      ]
     },
     "execution_count": 71,
     "metadata": {},
     "output_type": "execute_result"
    }
   ],
   "source": [
    "y_train, y_test"
   ]
  },
  {
   "cell_type": "code",
   "execution_count": 72,
   "metadata": {},
   "outputs": [
    {
     "data": {
      "text/plain": [
       "((11, 20, 199), (3, 20, 199), (11,), (3,))"
      ]
     },
     "execution_count": 72,
     "metadata": {},
     "output_type": "execute_result"
    }
   ],
   "source": [
    "x_train.shape, x_test.shape, y_train.shape, y_test.shape"
   ]
  },
  {
   "cell_type": "code",
   "execution_count": 73,
   "metadata": {},
   "outputs": [],
   "source": [
    "# Step 3: Model Training\n",
    "model = models.Sequential()\n",
    "model.add(layers.Conv2D(32, (3, 3), activation='relu', input_shape=(x_train.shape[1], x_train.shape[2], 1)))\n",
    "model.add(layers.MaxPooling2D((2, 2)))\n",
    "model.add(layers.Flatten())\n",
    "model.add(layers.Dense(64, activation='relu'))\n",
    "model.add(layers.Dense(len(label_encoder.classes_), activation='softmax'))\n"
   ]
  },
  {
   "cell_type": "code",
   "execution_count": null,
   "metadata": {},
   "outputs": [],
   "source": []
  },
  {
   "cell_type": "code",
   "execution_count": 74,
   "metadata": {},
   "outputs": [
    {
     "data": {
      "text/plain": [
       "((20, 199), (20, 199), (20, 199))"
      ]
     },
     "execution_count": 74,
     "metadata": {},
     "output_type": "execute_result"
    }
   ],
   "source": [
    "x_train[0].shape, x_train[1].shape, x_train[2].shape\n"
   ]
  },
  {
   "cell_type": "code",
   "execution_count": 75,
   "metadata": {},
   "outputs": [],
   "source": [
    "y_train = utils.to_categorical(y_train, num_classes=len(label_encoder.classes_))\n",
    "y_test = utils.to_categorical(y_test, num_classes=len(label_encoder.classes_))"
   ]
  },
  {
   "cell_type": "code",
   "execution_count": 76,
   "metadata": {},
   "outputs": [
    {
     "data": {
      "text/plain": [
       "array([11,  0,  1,  2,  3,  4,  5,  6,  7,  8,  9, 10, 12, 13],\n",
       "      dtype=int64)"
      ]
     },
     "execution_count": 76,
     "metadata": {},
     "output_type": "execute_result"
    }
   ],
   "source": [
    "labels"
   ]
  },
  {
   "cell_type": "code",
   "execution_count": 77,
   "metadata": {},
   "outputs": [
    {
     "data": {
      "text/plain": [
       "((11, 20, 199, 1), (11, 14), (3, 20, 199, 1), (3, 14))"
      ]
     },
     "execution_count": 77,
     "metadata": {},
     "output_type": "execute_result"
    }
   ],
   "source": [
    "np.expand_dims(x_train, axis=-1).shape, y_train.shape, np.expand_dims(x_test, axis=-1).shape, y_test.shape"
   ]
  },
  {
   "cell_type": "code",
   "execution_count": 78,
   "metadata": {},
   "outputs": [
    {
     "data": {
      "text/plain": [
       "((11, 14), (3, 14))"
      ]
     },
     "execution_count": 78,
     "metadata": {},
     "output_type": "execute_result"
    }
   ],
   "source": [
    "y_train.shape, y_test.shape"
   ]
  },
  {
   "cell_type": "code",
   "execution_count": 79,
   "metadata": {},
   "outputs": [
    {
     "name": "stdout",
     "output_type": "stream",
     "text": [
      "Epoch 1/10\n"
     ]
    },
    {
     "name": "stdout",
     "output_type": "stream",
     "text": [
      "1/1 [==============================] - 1s 1s/step - loss: 23.0664 - accuracy: 0.0909 - val_loss: 83.5675 - val_accuracy: 0.0000e+00\n",
      "Epoch 2/10\n",
      "1/1 [==============================] - 0s 70ms/step - loss: 85.0634 - accuracy: 0.1818 - val_loss: 79.7841 - val_accuracy: 0.0000e+00\n",
      "Epoch 3/10\n",
      "1/1 [==============================] - 0s 69ms/step - loss: 74.6711 - accuracy: 0.3636 - val_loss: 85.6328 - val_accuracy: 0.0000e+00\n",
      "Epoch 4/10\n",
      "1/1 [==============================] - 0s 70ms/step - loss: 71.3746 - accuracy: 0.3636 - val_loss: 66.4928 - val_accuracy: 0.0000e+00\n",
      "Epoch 5/10\n",
      "1/1 [==============================] - 0s 74ms/step - loss: 61.4095 - accuracy: 0.3636 - val_loss: 51.5782 - val_accuracy: 0.0000e+00\n",
      "Epoch 6/10\n",
      "1/1 [==============================] - 0s 105ms/step - loss: 42.3304 - accuracy: 0.4545 - val_loss: 39.7588 - val_accuracy: 0.0000e+00\n",
      "Epoch 7/10\n",
      "1/1 [==============================] - 0s 117ms/step - loss: 23.9675 - accuracy: 0.8182 - val_loss: 32.4191 - val_accuracy: 0.0000e+00\n",
      "Epoch 8/10\n",
      "1/1 [==============================] - 0s 127ms/step - loss: 17.9905 - accuracy: 0.9091 - val_loss: 24.5045 - val_accuracy: 0.0000e+00\n",
      "Epoch 9/10\n",
      "1/1 [==============================] - 0s 132ms/step - loss: 18.8278 - accuracy: 0.7273 - val_loss: 25.9460 - val_accuracy: 0.0000e+00\n",
      "Epoch 10/10\n",
      "1/1 [==============================] - 0s 95ms/step - loss: 15.9136 - accuracy: 0.7273 - val_loss: 25.9006 - val_accuracy: 0.0000e+00\n"
     ]
    },
    {
     "data": {
      "text/plain": [
       "<keras.callbacks.History at 0x1e9bad98b50>"
      ]
     },
     "execution_count": 79,
     "metadata": {},
     "output_type": "execute_result"
    }
   ],
   "source": [
    "model.compile(optimizer='adam', loss='categorical_crossentropy', metrics=['accuracy'])\n",
    "model.fit(np.expand_dims(x_train, axis=-1), y_train, epochs=10, batch_size=32, validation_data=(np.expand_dims(x_test, axis=-1), y_test))"
   ]
  },
  {
   "cell_type": "code",
   "execution_count": 80,
   "metadata": {},
   "outputs": [
    {
     "name": "stdout",
     "output_type": "stream",
     "text": [
      "1/1 [==============================] - 0s 63ms/step\n"
     ]
    }
   ],
   "source": [
    "y_pred = model.predict(np.expand_dims(x_test, axis=-1))"
   ]
  },
  {
   "cell_type": "code",
   "execution_count": 81,
   "metadata": {},
   "outputs": [
    {
     "data": {
      "text/plain": [
       "array([[7.8824902e-05, 2.4161686e-20, 2.6174180e-06, 2.6891285e-25,\n",
       "        1.3244120e-07, 1.9204458e-09, 0.0000000e+00, 4.0246675e-17,\n",
       "        2.4076865e-08, 6.5730978e-03, 2.9268620e-16, 2.4138533e-15,\n",
       "        9.9334526e-01, 1.0305218e-13],\n",
       "       [1.5241039e-04, 1.7200381e-14, 4.5731207e-04, 2.0606879e-24,\n",
       "        1.0061948e-10, 7.2921196e-08, 0.0000000e+00, 3.2368727e-18,\n",
       "        6.4054660e-08, 1.2705149e-05, 4.8108192e-17, 2.6716057e-16,\n",
       "        9.9937743e-01, 3.4866101e-13],\n",
       "       [6.8584033e-10, 1.6862705e-20, 9.2845243e-05, 2.4298627e-18,\n",
       "        2.0837663e-14, 2.9009389e-08, 0.0000000e+00, 7.1192670e-11,\n",
       "        3.6818037e-13, 6.5682354e-20, 3.5315995e-19, 1.5513531e-10,\n",
       "        9.9904662e-01, 8.6048857e-04]], dtype=float32)"
      ]
     },
     "execution_count": 81,
     "metadata": {},
     "output_type": "execute_result"
    }
   ],
   "source": [
    "y_pred"
   ]
  },
  {
   "cell_type": "code",
   "execution_count": 82,
   "metadata": {},
   "outputs": [
    {
     "data": {
      "text/plain": [
       "array([[0., 0., 0., 0., 0., 0., 0., 0., 1., 0., 0., 0., 0., 0.],\n",
       "       [0., 0., 0., 0., 0., 0., 0., 0., 0., 0., 1., 0., 0., 0.],\n",
       "       [0., 0., 0., 0., 0., 0., 0., 0., 0., 0., 0., 1., 0., 0.]],\n",
       "      dtype=float32)"
      ]
     },
     "execution_count": 82,
     "metadata": {},
     "output_type": "execute_result"
    }
   ],
   "source": [
    "y_test"
   ]
  },
  {
   "cell_type": "code",
   "execution_count": 83,
   "metadata": {},
   "outputs": [
    {
     "data": {
      "text/plain": [
       "(array([[0., 0., 0., 0., 0., 0., 0., 0., 1., 0., 0., 0., 0., 0.],\n",
       "        [0., 0., 0., 0., 0., 0., 0., 0., 0., 0., 1., 0., 0., 0.],\n",
       "        [0., 0., 0., 0., 0., 0., 0., 0., 0., 0., 0., 1., 0., 0.]],\n",
       "       dtype=float32),\n",
       " array([[0., 0., 0., 0., 0., 0., 0., 0., 0., 0., 0., 0., 1., 0.],\n",
       "        [0., 0., 0., 0., 1., 0., 0., 0., 0., 0., 0., 0., 0., 0.],\n",
       "        [0., 0., 0., 0., 0., 0., 0., 1., 0., 0., 0., 0., 0., 0.],\n",
       "        [0., 1., 0., 0., 0., 0., 0., 0., 0., 0., 0., 0., 0., 0.],\n",
       "        [1., 0., 0., 0., 0., 0., 0., 0., 0., 0., 0., 0., 0., 0.],\n",
       "        [0., 0., 0., 0., 0., 0., 0., 0., 0., 0., 0., 0., 0., 1.],\n",
       "        [0., 0., 0., 1., 0., 0., 0., 0., 0., 0., 0., 0., 0., 0.],\n",
       "        [0., 0., 0., 0., 0., 0., 1., 0., 0., 0., 0., 0., 0., 0.],\n",
       "        [0., 0., 0., 0., 0., 0., 0., 0., 0., 1., 0., 0., 0., 0.],\n",
       "        [0., 0., 1., 0., 0., 0., 0., 0., 0., 0., 0., 0., 0., 0.],\n",
       "        [0., 0., 0., 0., 0., 1., 0., 0., 0., 0., 0., 0., 0., 0.]],\n",
       "       dtype=float32))"
      ]
     },
     "execution_count": 83,
     "metadata": {},
     "output_type": "execute_result"
    }
   ],
   "source": [
    "# import accuracy_score\n",
    "y_test, y_train"
   ]
  },
  {
   "cell_type": "code",
   "execution_count": null,
   "metadata": {},
   "outputs": [],
   "source": []
  },
  {
   "cell_type": "code",
   "execution_count": null,
   "metadata": {},
   "outputs": [],
   "source": []
  },
  {
   "cell_type": "code",
   "execution_count": 84,
   "metadata": {},
   "outputs": [
    {
     "name": "stderr",
     "output_type": "stream",
     "text": [
      "C:\\Users\\baral\\AppData\\Local\\Temp\\ipykernel_10700\\484566982.py:2: UserWarning: PySoundFile failed. Trying audioread instead.\n",
      "  new_sound_data, sample_rate = librosa.load(new_sound_file, sr=None)\n",
      "c:\\Users\\baral\\AppData\\Local\\Programs\\Python\\Python39\\lib\\site-packages\\librosa\\core\\audio.py:184: FutureWarning: librosa.core.audio.__audioread_load\n",
      "\tDeprecated as of librosa version 0.10.0.\n",
      "\tIt will be removed in librosa version 1.0.\n",
      "  y, sr_native = __audioread_load(path, offset, duration, dtype)\n"
     ]
    },
    {
     "ename": "FileNotFoundError",
     "evalue": "[Errno 2] No such file or directory: 'path_to_new_sound_file.wav'",
     "output_type": "error",
     "traceback": [
      "\u001b[1;31m---------------------------------------------------------------------------\u001b[0m",
      "\u001b[1;31mLibsndfileError\u001b[0m                           Traceback (most recent call last)",
      "File \u001b[1;32mc:\\Users\\baral\\AppData\\Local\\Programs\\Python\\Python39\\lib\\site-packages\\librosa\\core\\audio.py:176\u001b[0m, in \u001b[0;36mload\u001b[1;34m(path, sr, mono, offset, duration, dtype, res_type)\u001b[0m\n\u001b[0;32m    175\u001b[0m \u001b[39mtry\u001b[39;00m:\n\u001b[1;32m--> 176\u001b[0m     y, sr_native \u001b[39m=\u001b[39m __soundfile_load(path, offset, duration, dtype)\n\u001b[0;32m    178\u001b[0m \u001b[39mexcept\u001b[39;00m sf\u001b[39m.\u001b[39mSoundFileRuntimeError \u001b[39mas\u001b[39;00m exc:\n\u001b[0;32m    179\u001b[0m     \u001b[39m# If soundfile failed, try audioread instead\u001b[39;00m\n",
      "File \u001b[1;32mc:\\Users\\baral\\AppData\\Local\\Programs\\Python\\Python39\\lib\\site-packages\\librosa\\core\\audio.py:209\u001b[0m, in \u001b[0;36m__soundfile_load\u001b[1;34m(path, offset, duration, dtype)\u001b[0m\n\u001b[0;32m    207\u001b[0m \u001b[39melse\u001b[39;00m:\n\u001b[0;32m    208\u001b[0m     \u001b[39m# Otherwise, create the soundfile object\u001b[39;00m\n\u001b[1;32m--> 209\u001b[0m     context \u001b[39m=\u001b[39m sf\u001b[39m.\u001b[39;49mSoundFile(path)\n\u001b[0;32m    211\u001b[0m \u001b[39mwith\u001b[39;00m context \u001b[39mas\u001b[39;00m sf_desc:\n",
      "File \u001b[1;32mc:\\Users\\baral\\AppData\\Local\\Programs\\Python\\Python39\\lib\\site-packages\\soundfile.py:658\u001b[0m, in \u001b[0;36mSoundFile.__init__\u001b[1;34m(self, file, mode, samplerate, channels, subtype, endian, format, closefd)\u001b[0m\n\u001b[0;32m    656\u001b[0m \u001b[39mself\u001b[39m\u001b[39m.\u001b[39m_info \u001b[39m=\u001b[39m _create_info_struct(file, mode, samplerate, channels,\n\u001b[0;32m    657\u001b[0m                                  \u001b[39mformat\u001b[39m, subtype, endian)\n\u001b[1;32m--> 658\u001b[0m \u001b[39mself\u001b[39m\u001b[39m.\u001b[39m_file \u001b[39m=\u001b[39m \u001b[39mself\u001b[39;49m\u001b[39m.\u001b[39;49m_open(file, mode_int, closefd)\n\u001b[0;32m    659\u001b[0m \u001b[39mif\u001b[39;00m \u001b[39mset\u001b[39m(mode)\u001b[39m.\u001b[39missuperset(\u001b[39m'\u001b[39m\u001b[39mr+\u001b[39m\u001b[39m'\u001b[39m) \u001b[39mand\u001b[39;00m \u001b[39mself\u001b[39m\u001b[39m.\u001b[39mseekable():\n\u001b[0;32m    660\u001b[0m     \u001b[39m# Move write position to 0 (like in Python file objects)\u001b[39;00m\n",
      "File \u001b[1;32mc:\\Users\\baral\\AppData\\Local\\Programs\\Python\\Python39\\lib\\site-packages\\soundfile.py:1216\u001b[0m, in \u001b[0;36mSoundFile._open\u001b[1;34m(self, file, mode_int, closefd)\u001b[0m\n\u001b[0;32m   1215\u001b[0m     err \u001b[39m=\u001b[39m _snd\u001b[39m.\u001b[39msf_error(file_ptr)\n\u001b[1;32m-> 1216\u001b[0m     \u001b[39mraise\u001b[39;00m LibsndfileError(err, prefix\u001b[39m=\u001b[39m\u001b[39m\"\u001b[39m\u001b[39mError opening \u001b[39m\u001b[39m{0!r}\u001b[39;00m\u001b[39m: \u001b[39m\u001b[39m\"\u001b[39m\u001b[39m.\u001b[39mformat(\u001b[39mself\u001b[39m\u001b[39m.\u001b[39mname))\n\u001b[0;32m   1217\u001b[0m \u001b[39mif\u001b[39;00m mode_int \u001b[39m==\u001b[39m _snd\u001b[39m.\u001b[39mSFM_WRITE:\n\u001b[0;32m   1218\u001b[0m     \u001b[39m# Due to a bug in libsndfile version <= 1.0.25, frames != 0\u001b[39;00m\n\u001b[0;32m   1219\u001b[0m     \u001b[39m# when opening a named pipe in SFM_WRITE mode.\u001b[39;00m\n\u001b[0;32m   1220\u001b[0m     \u001b[39m# See http://github.com/erikd/libsndfile/issues/77.\u001b[39;00m\n",
      "\u001b[1;31mLibsndfileError\u001b[0m: Error opening 'path_to_new_sound_file.wav': System error.",
      "\nDuring handling of the above exception, another exception occurred:\n",
      "\u001b[1;31mFileNotFoundError\u001b[0m                         Traceback (most recent call last)",
      "\u001b[1;32mc:\\Users\\baral\\Desktop\\project\\pro.ipynb Cell 39\u001b[0m in \u001b[0;36m<cell line: 2>\u001b[1;34m()\u001b[0m\n\u001b[0;32m      <a href='vscode-notebook-cell:/c%3A/Users/baral/Desktop/project/pro.ipynb#X52sZmlsZQ%3D%3D?line=0'>1</a>\u001b[0m new_sound_file \u001b[39m=\u001b[39m \u001b[39m\"\u001b[39m\u001b[39mpath_to_new_sound_file.wav\u001b[39m\u001b[39m\"\u001b[39m\n\u001b[1;32m----> <a href='vscode-notebook-cell:/c%3A/Users/baral/Desktop/project/pro.ipynb#X52sZmlsZQ%3D%3D?line=1'>2</a>\u001b[0m new_sound_data, sample_rate \u001b[39m=\u001b[39m librosa\u001b[39m.\u001b[39;49mload(new_sound_file, sr\u001b[39m=\u001b[39;49m\u001b[39mNone\u001b[39;49;00m)\n\u001b[0;32m      <a href='vscode-notebook-cell:/c%3A/Users/baral/Desktop/project/pro.ipynb#X52sZmlsZQ%3D%3D?line=2'>3</a>\u001b[0m new_sound_data \u001b[39m=\u001b[39m librosa\u001b[39m.\u001b[39mfeature\u001b[39m.\u001b[39mmfcc(y\u001b[39m=\u001b[39mnew_sound_data, sr\u001b[39m=\u001b[39msample_rate)\n\u001b[0;32m      <a href='vscode-notebook-cell:/c%3A/Users/baral/Desktop/project/pro.ipynb#X52sZmlsZQ%3D%3D?line=3'>4</a>\u001b[0m new_sound_data \u001b[39m=\u001b[39m np\u001b[39m.\u001b[39mexpand_dims(new_sound_data, axis\u001b[39m=\u001b[39m\u001b[39m0\u001b[39m)\n",
      "File \u001b[1;32mc:\\Users\\baral\\AppData\\Local\\Programs\\Python\\Python39\\lib\\site-packages\\librosa\\core\\audio.py:184\u001b[0m, in \u001b[0;36mload\u001b[1;34m(path, sr, mono, offset, duration, dtype, res_type)\u001b[0m\n\u001b[0;32m    180\u001b[0m \u001b[39mif\u001b[39;00m \u001b[39misinstance\u001b[39m(path, (\u001b[39mstr\u001b[39m, pathlib\u001b[39m.\u001b[39mPurePath)):\n\u001b[0;32m    181\u001b[0m     warnings\u001b[39m.\u001b[39mwarn(\n\u001b[0;32m    182\u001b[0m         \u001b[39m\"\u001b[39m\u001b[39mPySoundFile failed. Trying audioread instead.\u001b[39m\u001b[39m\"\u001b[39m, stacklevel\u001b[39m=\u001b[39m\u001b[39m2\u001b[39m\n\u001b[0;32m    183\u001b[0m     )\n\u001b[1;32m--> 184\u001b[0m     y, sr_native \u001b[39m=\u001b[39m __audioread_load(path, offset, duration, dtype)\n\u001b[0;32m    185\u001b[0m \u001b[39melse\u001b[39;00m:\n\u001b[0;32m    186\u001b[0m     \u001b[39mraise\u001b[39;00m exc\n",
      "File \u001b[1;32mc:\\Users\\baral\\AppData\\Local\\Programs\\Python\\Python39\\lib\\site-packages\\decorator.py:232\u001b[0m, in \u001b[0;36mdecorate.<locals>.fun\u001b[1;34m(*args, **kw)\u001b[0m\n\u001b[0;32m    230\u001b[0m \u001b[39mif\u001b[39;00m \u001b[39mnot\u001b[39;00m kwsyntax:\n\u001b[0;32m    231\u001b[0m     args, kw \u001b[39m=\u001b[39m fix(args, kw, sig)\n\u001b[1;32m--> 232\u001b[0m \u001b[39mreturn\u001b[39;00m caller(func, \u001b[39m*\u001b[39m(extras \u001b[39m+\u001b[39m args), \u001b[39m*\u001b[39m\u001b[39m*\u001b[39mkw)\n",
      "File \u001b[1;32mc:\\Users\\baral\\AppData\\Local\\Programs\\Python\\Python39\\lib\\site-packages\\librosa\\util\\decorators.py:60\u001b[0m, in \u001b[0;36mdeprecated.<locals>.__wrapper\u001b[1;34m(func, *args, **kwargs)\u001b[0m\n\u001b[0;32m     51\u001b[0m \u001b[39m\"\"\"Warn the user, and then proceed.\"\"\"\u001b[39;00m\n\u001b[0;32m     52\u001b[0m warnings\u001b[39m.\u001b[39mwarn(\n\u001b[0;32m     53\u001b[0m     \u001b[39m\"\u001b[39m\u001b[39m{:s}\u001b[39;00m\u001b[39m.\u001b[39m\u001b[39m{:s}\u001b[39;00m\u001b[39m\\n\u001b[39;00m\u001b[39m\\t\u001b[39;00m\u001b[39mDeprecated as of librosa version \u001b[39m\u001b[39m{:s}\u001b[39;00m\u001b[39m.\u001b[39m\u001b[39m\"\u001b[39m\n\u001b[0;32m     54\u001b[0m     \u001b[39m\"\u001b[39m\u001b[39m\\n\u001b[39;00m\u001b[39m\\t\u001b[39;00m\u001b[39mIt will be removed in librosa version \u001b[39m\u001b[39m{:s}\u001b[39;00m\u001b[39m.\u001b[39m\u001b[39m\"\u001b[39m\u001b[39m.\u001b[39mformat(\n\u001b[1;32m   (...)\u001b[0m\n\u001b[0;32m     58\u001b[0m     stacklevel\u001b[39m=\u001b[39m\u001b[39m3\u001b[39m,  \u001b[39m# Would be 2, but the decorator adds a level\u001b[39;00m\n\u001b[0;32m     59\u001b[0m )\n\u001b[1;32m---> 60\u001b[0m \u001b[39mreturn\u001b[39;00m func(\u001b[39m*\u001b[39margs, \u001b[39m*\u001b[39m\u001b[39m*\u001b[39mkwargs)\n",
      "File \u001b[1;32mc:\\Users\\baral\\AppData\\Local\\Programs\\Python\\Python39\\lib\\site-packages\\librosa\\core\\audio.py:241\u001b[0m, in \u001b[0;36m__audioread_load\u001b[1;34m(path, offset, duration, dtype)\u001b[0m\n\u001b[0;32m    238\u001b[0m     reader \u001b[39m=\u001b[39m path\n\u001b[0;32m    239\u001b[0m \u001b[39melse\u001b[39;00m:\n\u001b[0;32m    240\u001b[0m     \u001b[39m# If the input was not an audioread object, try to open it\u001b[39;00m\n\u001b[1;32m--> 241\u001b[0m     reader \u001b[39m=\u001b[39m audioread\u001b[39m.\u001b[39;49maudio_open(path)\n\u001b[0;32m    243\u001b[0m \u001b[39mwith\u001b[39;00m reader \u001b[39mas\u001b[39;00m input_file:\n\u001b[0;32m    244\u001b[0m     sr_native \u001b[39m=\u001b[39m input_file\u001b[39m.\u001b[39msamplerate\n",
      "File \u001b[1;32mc:\\Users\\baral\\AppData\\Local\\Programs\\Python\\Python39\\lib\\site-packages\\audioread\\__init__.py:127\u001b[0m, in \u001b[0;36maudio_open\u001b[1;34m(path, backends)\u001b[0m\n\u001b[0;32m    125\u001b[0m \u001b[39mfor\u001b[39;00m BackendClass \u001b[39min\u001b[39;00m backends:\n\u001b[0;32m    126\u001b[0m     \u001b[39mtry\u001b[39;00m:\n\u001b[1;32m--> 127\u001b[0m         \u001b[39mreturn\u001b[39;00m BackendClass(path)\n\u001b[0;32m    128\u001b[0m     \u001b[39mexcept\u001b[39;00m DecodeError:\n\u001b[0;32m    129\u001b[0m         \u001b[39mpass\u001b[39;00m\n",
      "File \u001b[1;32mc:\\Users\\baral\\AppData\\Local\\Programs\\Python\\Python39\\lib\\site-packages\\audioread\\rawread.py:59\u001b[0m, in \u001b[0;36mRawAudioFile.__init__\u001b[1;34m(self, filename)\u001b[0m\n\u001b[0;32m     58\u001b[0m \u001b[39mdef\u001b[39;00m \u001b[39m__init__\u001b[39m(\u001b[39mself\u001b[39m, filename):\n\u001b[1;32m---> 59\u001b[0m     \u001b[39mself\u001b[39m\u001b[39m.\u001b[39m_fh \u001b[39m=\u001b[39m \u001b[39mopen\u001b[39;49m(filename, \u001b[39m'\u001b[39;49m\u001b[39mrb\u001b[39;49m\u001b[39m'\u001b[39;49m)\n\u001b[0;32m     61\u001b[0m     \u001b[39mtry\u001b[39;00m:\n\u001b[0;32m     62\u001b[0m         \u001b[39mself\u001b[39m\u001b[39m.\u001b[39m_file \u001b[39m=\u001b[39m aifc\u001b[39m.\u001b[39mopen(\u001b[39mself\u001b[39m\u001b[39m.\u001b[39m_fh)\n",
      "\u001b[1;31mFileNotFoundError\u001b[0m: [Errno 2] No such file or directory: 'path_to_new_sound_file.wav'"
     ]
    }
   ],
   "source": [
    "new_sound_file = \"path_to_new_sound_file.wav\"\n",
    "new_sound_data, sample_rate = librosa.load(new_sound_file, sr=None)\n",
    "new_sound_data = librosa.feature.mfcc(y=new_sound_data, sr=sample_rate)\n",
    "new_sound_data = np.expand_dims(new_sound_data, axis=0)\n",
    "new_sound_data = np.expand_dims(new_sound_data, axis=-1)"
   ]
  },
  {
   "cell_type": "code",
   "execution_count": null,
   "metadata": {},
   "outputs": [],
   "source": []
  },
  {
   "cell_type": "code",
   "execution_count": null,
   "metadata": {},
   "outputs": [],
   "source": []
  },
  {
   "cell_type": "code",
   "execution_count": null,
   "metadata": {},
   "outputs": [],
   "source": []
  },
  {
   "cell_type": "code",
   "execution_count": null,
   "metadata": {},
   "outputs": [],
   "source": []
  },
  {
   "cell_type": "code",
   "execution_count": null,
   "metadata": {},
   "outputs": [],
   "source": []
  },
  {
   "cell_type": "code",
   "execution_count": null,
   "metadata": {},
   "outputs": [],
   "source": []
  },
  {
   "cell_type": "code",
   "execution_count": null,
   "metadata": {},
   "outputs": [],
   "source": []
  },
  {
   "cell_type": "code",
   "execution_count": null,
   "metadata": {},
   "outputs": [],
   "source": []
  },
  {
   "cell_type": "code",
   "execution_count": null,
   "metadata": {},
   "outputs": [],
   "source": []
  },
  {
   "cell_type": "code",
   "execution_count": null,
   "metadata": {},
   "outputs": [],
   "source": []
  },
  {
   "cell_type": "code",
   "execution_count": null,
   "metadata": {},
   "outputs": [],
   "source": []
  },
  {
   "cell_type": "code",
   "execution_count": null,
   "metadata": {},
   "outputs": [],
   "source": []
  },
  {
   "cell_type": "code",
   "execution_count": null,
   "metadata": {},
   "outputs": [],
   "source": []
  },
  {
   "cell_type": "code",
   "execution_count": null,
   "metadata": {},
   "outputs": [],
   "source": []
  },
  {
   "cell_type": "code",
   "execution_count": null,
   "metadata": {},
   "outputs": [],
   "source": []
  },
  {
   "cell_type": "code",
   "execution_count": null,
   "metadata": {},
   "outputs": [],
   "source": []
  },
  {
   "cell_type": "code",
   "execution_count": null,
   "metadata": {},
   "outputs": [],
   "source": []
  },
  {
   "cell_type": "code",
   "execution_count": null,
   "metadata": {},
   "outputs": [],
   "source": []
  },
  {
   "cell_type": "code",
   "execution_count": null,
   "metadata": {},
   "outputs": [],
   "source": []
  },
  {
   "cell_type": "code",
   "execution_count": null,
   "metadata": {},
   "outputs": [],
   "source": []
  }
 ],
 "metadata": {
  "kernelspec": {
   "display_name": "Python 3",
   "language": "python",
   "name": "python3"
  },
  "language_info": {
   "codemirror_mode": {
    "name": "ipython",
    "version": 3
   },
   "file_extension": ".py",
   "mimetype": "text/x-python",
   "name": "python",
   "nbconvert_exporter": "python",
   "pygments_lexer": "ipython3",
   "version": "3.9.5"
  },
  "orig_nbformat": 4
 },
 "nbformat": 4,
 "nbformat_minor": 2
}

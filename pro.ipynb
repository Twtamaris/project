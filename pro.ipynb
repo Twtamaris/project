{
 "cells": [
  {
   "cell_type": "code",
   "execution_count": 412,
   "metadata": {},
   "outputs": [],
   "source": [
    "import os\n",
    "import numpy as np\n",
    "# import models, layers, utils\n",
    "import librosa\n",
    "from sklearn.model_selection import train_test_split\n",
    "from sklearn.preprocessing import LabelEncoder\n",
    "# import Sequential\n",
    "from tensorflow.keras import models, layers, utils\n",
    "from tensorflow.keras import Sequential\n",
    "import sounddevice as sd\n",
    "import re\n"
   ]
  },
  {
   "cell_type": "code",
   "execution_count": 413,
   "metadata": {},
   "outputs": [],
   "source": [
    "# Step 1: Data Collection\n",
    "sound_folder = \"hello_split\"\n",
    "words = []\n",
    "sound_data = []\n",
    "label = []\n",
    "name = []\n",
    "# sound_name = ['Miro.', 'Naam.', 'Saurabh.', 'Baral.','ho.','tapai.','Ko.', 'xa.','I.','love.','you.']"
   ]
  },
  {
   "cell_type": "code",
   "execution_count": 414,
   "metadata": {},
   "outputs": [],
   "source": [
    "# Iterate over sound files in the folder\n",
    "i = -1\n",
    "for filename in os.listdir(sound_folder):\n",
    "    file_path = os.path.join(sound_folder, filename)\n",
    "    word = filename.split(\".\")[0]  # Extract the word from the filename\n",
    "    # Removes the number and _ from the word Ex. 1_hello.wav -> hello\n",
    "    word = re.sub(r'[^A-Za-z]+', '', word)\n",
    "    if word not in words:\n",
    "        words.append(word)\n",
    "    \n",
    "    label.append(words.index(word))\n",
    "    name.append(word)\n",
    "\n",
    "    audio_data, sample_rate = librosa.load(file_path, sr=None)  # Load audio file\n",
    "    sound_data.append(audio_data)"
   ]
  },
  {
   "cell_type": "code",
   "execution_count": 415,
   "metadata": {},
   "outputs": [
    {
     "data": {
      "text/plain": [
       "[0,\n",
       " 0,\n",
       " 1,\n",
       " 1,\n",
       " 1,\n",
       " 1,\n",
       " 2,\n",
       " 2,\n",
       " 2,\n",
       " 3,\n",
       " 4,\n",
       " 3,\n",
       " 5,\n",
       " 6,\n",
       " 7,\n",
       " 6,\n",
       " 8,\n",
       " 9,\n",
       " 10,\n",
       " 11,\n",
       " 4,\n",
       " 4,\n",
       " 4,\n",
       " 4,\n",
       " 0,\n",
       " 0,\n",
       " 0,\n",
       " 0]"
      ]
     },
     "execution_count": 415,
     "metadata": {},
     "output_type": "execute_result"
    }
   ],
   "source": [
    "label"
   ]
  },
  {
   "cell_type": "code",
   "execution_count": 416,
   "metadata": {},
   "outputs": [
    {
     "data": {
      "text/plain": [
       "['Naam',\n",
       " 'Saurabh',\n",
       " 'Baral',\n",
       " 'ho',\n",
       " 'Miro',\n",
       " 'tapai',\n",
       " 'Ko',\n",
       " 'tapay',\n",
       " 'xa',\n",
       " 'I',\n",
       " 'love',\n",
       " 'you']"
      ]
     },
     "execution_count": 416,
     "metadata": {},
     "output_type": "execute_result"
    }
   ],
   "source": [
    "words"
   ]
  },
  {
   "cell_type": "code",
   "execution_count": 417,
   "metadata": {},
   "outputs": [
    {
     "data": {
      "text/plain": [
       "48000"
      ]
     },
     "execution_count": 417,
     "metadata": {},
     "output_type": "execute_result"
    }
   ],
   "source": [
    "sample_rate"
   ]
  },
  {
   "cell_type": "code",
   "execution_count": 418,
   "metadata": {},
   "outputs": [
    {
     "data": {
      "text/plain": [
       "28"
      ]
     },
     "execution_count": 418,
     "metadata": {},
     "output_type": "execute_result"
    }
   ],
   "source": [
    "len(sound_data)"
   ]
  },
  {
   "cell_type": "code",
   "execution_count": 419,
   "metadata": {},
   "outputs": [],
   "source": [
    "# Step 2: Preprocessing\n",
    "label_encoder = LabelEncoder()\n",
    "labels = label_encoder.fit_transform(words)\n",
    "sound_data = [librosa.feature.mfcc(y=data, sr=sample_rate) for data in sound_data]"
   ]
  },
  {
   "cell_type": "code",
   "execution_count": 420,
   "metadata": {},
   "outputs": [
    {
     "data": {
      "text/plain": [
       "array(['Baral', 'I', 'Ko', 'Miro', 'Naam', 'Saurabh', 'ho', 'love',\n",
       "       'tapai', 'tapay', 'xa', 'you'], dtype='<U7')"
      ]
     },
     "execution_count": 420,
     "metadata": {},
     "output_type": "execute_result"
    }
   ],
   "source": [
    "label_encoder.classes_"
   ]
  },
  {
   "cell_type": "code",
   "execution_count": 421,
   "metadata": {},
   "outputs": [],
   "source": [
    "labels = utils.to_categorical(label, num_classes=len(label_encoder.classes_))\n"
   ]
  },
  {
   "cell_type": "code",
   "execution_count": 422,
   "metadata": {},
   "outputs": [
    {
     "data": {
      "text/plain": [
       "array([[1., 0., 0., 0., 0., 0., 0., 0., 0., 0., 0., 0.],\n",
       "       [1., 0., 0., 0., 0., 0., 0., 0., 0., 0., 0., 0.],\n",
       "       [0., 1., 0., 0., 0., 0., 0., 0., 0., 0., 0., 0.],\n",
       "       [0., 1., 0., 0., 0., 0., 0., 0., 0., 0., 0., 0.],\n",
       "       [0., 1., 0., 0., 0., 0., 0., 0., 0., 0., 0., 0.]], dtype=float32)"
      ]
     },
     "execution_count": 422,
     "metadata": {},
     "output_type": "execute_result"
    }
   ],
   "source": [
    "labels[:5]"
   ]
  },
  {
   "cell_type": "code",
   "execution_count": 423,
   "metadata": {},
   "outputs": [
    {
     "data": {
      "text/plain": [
       "(28, 12)"
      ]
     },
     "execution_count": 423,
     "metadata": {},
     "output_type": "execute_result"
    }
   ],
   "source": [
    "labels.shape"
   ]
  },
  {
   "cell_type": "code",
   "execution_count": 424,
   "metadata": {},
   "outputs": [
    {
     "data": {
      "text/plain": [
       "28"
      ]
     },
     "execution_count": 424,
     "metadata": {},
     "output_type": "execute_result"
    }
   ],
   "source": [
    "len(sound_data)"
   ]
  },
  {
   "cell_type": "code",
   "execution_count": 425,
   "metadata": {},
   "outputs": [
    {
     "data": {
      "text/plain": [
       "(20, 126)"
      ]
     },
     "execution_count": 425,
     "metadata": {},
     "output_type": "execute_result"
    }
   ],
   "source": [
    "sound_data[0].shape"
   ]
  },
  {
   "cell_type": "code",
   "execution_count": 426,
   "metadata": {},
   "outputs": [],
   "source": [
    "# Split the dataset into training and testing sets"
   ]
  },
  {
   "cell_type": "code",
   "execution_count": 427,
   "metadata": {},
   "outputs": [
    {
     "name": "stdout",
     "output_type": "stream",
     "text": [
      "[[[-2.99812622e+02 -2.68945435e+02 -2.52896881e+02 ... -2.60914032e+02\n",
      "   -2.64518402e+02 -2.22407089e+02]\n",
      "  [ 1.78257141e+02  2.12234970e+02  2.32832626e+02 ...  2.45919907e+02\n",
      "    2.43404022e+02  2.03795563e+02]\n",
      "  [ 6.77690220e+00 -2.28766918e+01 -2.92725182e+01 ... -5.17024326e+00\n",
      "    2.25792122e+00  3.54791565e+01]\n",
      "  ...\n",
      "  [-6.11440277e+00 -9.37044716e+00 -1.29157467e+01 ...  1.59050226e-02\n",
      "   -9.85843420e-01  2.01994514e+00]\n",
      "  [-1.17798119e+01 -1.04930725e+01 -4.18545485e+00 ...  3.72642446e+00\n",
      "    6.65921402e+00  5.80807257e+00]\n",
      "  [-5.29475069e+00 -4.86009884e+00 -4.92752504e+00 ... -1.08880687e+00\n",
      "   -2.02197981e+00  4.78213596e+00]]\n",
      "\n",
      " [[-2.23669174e+02 -2.45219788e+02 -2.68495178e+02 ... -2.28076248e+02\n",
      "   -2.23399124e+02 -2.24804199e+02]\n",
      "  [ 1.91913513e+02  2.09324524e+02  2.32184387e+02 ...  2.61799927e+02\n",
      "    2.63875793e+02  2.66698914e+02]\n",
      "  [ 3.92412262e+01  2.60527668e+01  7.46072340e+00 ... -5.39751005e+00\n",
      "   -4.00017071e+00  7.70471931e-01]\n",
      "  ...\n",
      "  [-1.29654717e+00 -4.00547028e+00 -3.81217432e+00 ... -2.10846114e+00\n",
      "   -1.45523596e+00 -9.61785436e-01]\n",
      "  [ 1.82709432e+00  9.18157518e-01  8.59045982e-01 ... -2.09181690e+00\n",
      "   -2.56733465e+00 -5.84230483e-01]\n",
      "  [ 3.90635037e+00  5.14397287e+00  3.51500082e+00 ... -5.98894978e+00\n",
      "   -7.48648787e+00 -3.89096117e+00]]\n",
      "\n",
      " [[-2.36088898e+02 -2.14000656e+02 -2.09633636e+02 ... -3.08080872e+02\n",
      "   -3.12399170e+02 -3.08572571e+02]\n",
      "  [ 2.52780457e+02  2.51230606e+02  2.46799530e+02 ...  1.85249634e+02\n",
      "    1.83194122e+02  1.74922684e+02]\n",
      "  [ 2.31541038e+00 -1.01081839e+01 -1.85212784e+01 ... -8.62764263e+00\n",
      "   -1.58758755e+01 -8.77999306e+00]\n",
      "  ...\n",
      "  [-6.31385517e+00 -8.36330032e+00 -1.05663710e+01 ... -6.07600594e+00\n",
      "   -6.31902122e+00 -7.80629873e+00]\n",
      "  [-2.06824422e+00 -5.48275471e+00 -6.86421299e+00 ... -7.03470564e+00\n",
      "   -1.35692120e-01 -3.48687124e+00]\n",
      "  [-5.73225451e+00 -7.09039831e+00 -8.85070610e+00 ...  3.12921143e+00\n",
      "    8.33468628e+00  1.54595599e-01]]\n",
      "\n",
      " ...\n",
      "\n",
      " [[-3.36544556e+02 -3.28065979e+02 -3.43184967e+02 ... -3.48261292e+02\n",
      "   -3.45942749e+02 -3.50946381e+02]\n",
      "  [ 1.43667419e+02  1.74885254e+02  1.76744446e+02 ...  1.73808289e+02\n",
      "    1.79922287e+02  1.79116104e+02]\n",
      "  [-7.66775131e+00 -2.01103611e+01 -2.86537018e+01 ... -3.30933838e+01\n",
      "   -2.61196899e+01 -2.47047195e+01]\n",
      "  ...\n",
      "  [-4.56182909e+00 -1.02838974e+01 -7.39623165e+00 ... -4.67472267e+00\n",
      "   -6.64147949e+00  1.03514552e+00]\n",
      "  [ 6.82696104e-01 -4.39734840e+00 -6.81743431e+00 ...  3.37601066e-01\n",
      "   -1.94571972e-01 -2.37340117e+00]\n",
      "  [ 2.05618691e+00 -3.96066141e+00 -4.34714317e+00 ...  8.58953285e+00\n",
      "    9.14048767e+00  1.93010223e+00]]\n",
      "\n",
      " [[-3.72015015e+02 -3.44467468e+02 -3.39400299e+02 ... -3.33349670e+02\n",
      "   -3.39872101e+02 -3.24694916e+02]\n",
      "  [ 1.68608826e+02  1.68834839e+02  1.76123337e+02 ...  1.87226257e+02\n",
      "    1.77240540e+02  1.40733307e+02]\n",
      "  [-2.51671352e+01 -3.34582863e+01 -2.54479866e+01 ... -1.68039494e+01\n",
      "   -2.27427254e+01 -1.43661013e+01]\n",
      "  ...\n",
      "  [-6.77784872e+00 -9.36603928e+00 -9.92324638e+00 ... -4.95226765e+00\n",
      "   -6.42251110e+00  5.58720946e-01]\n",
      "  [-9.78286743e+00 -1.02523098e+01 -9.69045258e+00 ... -6.21549892e+00\n",
      "   -7.07393694e+00 -1.60860395e+00]\n",
      "  [-1.38286757e+00 -3.19440633e-01 -1.41531026e+00 ...  2.64706522e-01\n",
      "   -7.20620155e+00 -3.55633163e+00]]\n",
      "\n",
      " [[-3.19603271e+02 -3.25794403e+02 -3.33700958e+02 ... -3.14147644e+02\n",
      "   -3.10778229e+02 -3.04400513e+02]\n",
      "  [ 1.41114105e+02  1.67660629e+02  1.85060959e+02 ...  1.94553467e+02\n",
      "    1.99851044e+02  1.84630249e+02]\n",
      "  [ 3.04416275e+00 -1.14666367e+01 -1.36315737e+01 ... -9.84522820e+00\n",
      "   -9.46896172e+00  3.45894480e+00]\n",
      "  ...\n",
      "  [ 3.90344715e+00 -5.17278290e+00 -1.71835709e+00 ... -2.08839726e+00\n",
      "   -1.83796740e+00 -7.34650373e-01]\n",
      "  [ 3.32020712e+00 -9.07795715e+00 -5.89632797e+00 ... -3.52480388e+00\n",
      "   -3.34237313e+00 -1.08717327e+01]\n",
      "  [-5.33832252e-01 -8.19436455e+00 -1.26479530e+00 ...  8.82725000e-01\n",
      "    4.90085572e-01 -8.27280807e+00]]]\n"
     ]
    }
   ],
   "source": [
    "import numpy as np\n",
    "\n",
    "# Determine the maximum length of the arrays in x_train\n",
    "max_length = max(data.shape[1] for data in sound_data)\n",
    "\n",
    "# Pad the sequences to the maximum length\n",
    "padded_x_train = []\n",
    "for data in sound_data:\n",
    "    if data.shape[1] < max_length:\n",
    "        padding = np.zeros((data.shape[0], max_length - data.shape[1]))\n",
    "        padded_data = np.concatenate([data, padding], axis=1)\n",
    "    else:\n",
    "        padded_data = data\n",
    "    padded_x_train.append(padded_data)\n",
    "\n",
    "# Convert padded_x_train to a NumPy array\n",
    "padded_x_train = np.array(padded_x_train)\n",
    "\n",
    "# Print the padded sequences\n",
    "print(padded_x_train)\n"
   ]
  },
  {
   "cell_type": "code",
   "execution_count": 428,
   "metadata": {},
   "outputs": [
    {
     "data": {
      "text/plain": [
       "((20, 126), (20, 126))"
      ]
     },
     "execution_count": 428,
     "metadata": {},
     "output_type": "execute_result"
    }
   ],
   "source": [
    "sound_data[0].shape, sound_data[1].shape"
   ]
  },
  {
   "cell_type": "code",
   "execution_count": 429,
   "metadata": {},
   "outputs": [],
   "source": [
    "sound_data = padded_x_train"
   ]
  },
  {
   "cell_type": "code",
   "execution_count": 430,
   "metadata": {},
   "outputs": [
    {
     "data": {
      "text/plain": [
       "(28, 20, 126)"
      ]
     },
     "execution_count": 430,
     "metadata": {},
     "output_type": "execute_result"
    }
   ],
   "source": [
    "sound_data.shape"
   ]
  },
  {
   "cell_type": "code",
   "execution_count": 431,
   "metadata": {},
   "outputs": [
    {
     "data": {
      "text/plain": [
       "array([[[-2.99812622e+02, -2.68945435e+02, -2.52896881e+02, ...,\n",
       "         -2.60914032e+02, -2.64518402e+02, -2.22407089e+02],\n",
       "        [ 1.78257141e+02,  2.12234970e+02,  2.32832626e+02, ...,\n",
       "          2.45919907e+02,  2.43404022e+02,  2.03795563e+02],\n",
       "        [ 6.77690220e+00, -2.28766918e+01, -2.92725182e+01, ...,\n",
       "         -5.17024326e+00,  2.25792122e+00,  3.54791565e+01],\n",
       "        ...,\n",
       "        [-6.11440277e+00, -9.37044716e+00, -1.29157467e+01, ...,\n",
       "          1.59050226e-02, -9.85843420e-01,  2.01994514e+00],\n",
       "        [-1.17798119e+01, -1.04930725e+01, -4.18545485e+00, ...,\n",
       "          3.72642446e+00,  6.65921402e+00,  5.80807257e+00],\n",
       "        [-5.29475069e+00, -4.86009884e+00, -4.92752504e+00, ...,\n",
       "         -1.08880687e+00, -2.02197981e+00,  4.78213596e+00]],\n",
       "\n",
       "       [[-2.23669174e+02, -2.45219788e+02, -2.68495178e+02, ...,\n",
       "         -2.28076248e+02, -2.23399124e+02, -2.24804199e+02],\n",
       "        [ 1.91913513e+02,  2.09324524e+02,  2.32184387e+02, ...,\n",
       "          2.61799927e+02,  2.63875793e+02,  2.66698914e+02],\n",
       "        [ 3.92412262e+01,  2.60527668e+01,  7.46072340e+00, ...,\n",
       "         -5.39751005e+00, -4.00017071e+00,  7.70471931e-01],\n",
       "        ...,\n",
       "        [-1.29654717e+00, -4.00547028e+00, -3.81217432e+00, ...,\n",
       "         -2.10846114e+00, -1.45523596e+00, -9.61785436e-01],\n",
       "        [ 1.82709432e+00,  9.18157518e-01,  8.59045982e-01, ...,\n",
       "         -2.09181690e+00, -2.56733465e+00, -5.84230483e-01],\n",
       "        [ 3.90635037e+00,  5.14397287e+00,  3.51500082e+00, ...,\n",
       "         -5.98894978e+00, -7.48648787e+00, -3.89096117e+00]],\n",
       "\n",
       "       [[-2.36088898e+02, -2.14000656e+02, -2.09633636e+02, ...,\n",
       "         -3.08080872e+02, -3.12399170e+02, -3.08572571e+02],\n",
       "        [ 2.52780457e+02,  2.51230606e+02,  2.46799530e+02, ...,\n",
       "          1.85249634e+02,  1.83194122e+02,  1.74922684e+02],\n",
       "        [ 2.31541038e+00, -1.01081839e+01, -1.85212784e+01, ...,\n",
       "         -8.62764263e+00, -1.58758755e+01, -8.77999306e+00],\n",
       "        ...,\n",
       "        [-6.31385517e+00, -8.36330032e+00, -1.05663710e+01, ...,\n",
       "         -6.07600594e+00, -6.31902122e+00, -7.80629873e+00],\n",
       "        [-2.06824422e+00, -5.48275471e+00, -6.86421299e+00, ...,\n",
       "         -7.03470564e+00, -1.35692120e-01, -3.48687124e+00],\n",
       "        [-5.73225451e+00, -7.09039831e+00, -8.85070610e+00, ...,\n",
       "          3.12921143e+00,  8.33468628e+00,  1.54595599e-01]],\n",
       "\n",
       "       ...,\n",
       "\n",
       "       [[-3.36544556e+02, -3.28065979e+02, -3.43184967e+02, ...,\n",
       "         -3.48261292e+02, -3.45942749e+02, -3.50946381e+02],\n",
       "        [ 1.43667419e+02,  1.74885254e+02,  1.76744446e+02, ...,\n",
       "          1.73808289e+02,  1.79922287e+02,  1.79116104e+02],\n",
       "        [-7.66775131e+00, -2.01103611e+01, -2.86537018e+01, ...,\n",
       "         -3.30933838e+01, -2.61196899e+01, -2.47047195e+01],\n",
       "        ...,\n",
       "        [-4.56182909e+00, -1.02838974e+01, -7.39623165e+00, ...,\n",
       "         -4.67472267e+00, -6.64147949e+00,  1.03514552e+00],\n",
       "        [ 6.82696104e-01, -4.39734840e+00, -6.81743431e+00, ...,\n",
       "          3.37601066e-01, -1.94571972e-01, -2.37340117e+00],\n",
       "        [ 2.05618691e+00, -3.96066141e+00, -4.34714317e+00, ...,\n",
       "          8.58953285e+00,  9.14048767e+00,  1.93010223e+00]],\n",
       "\n",
       "       [[-3.72015015e+02, -3.44467468e+02, -3.39400299e+02, ...,\n",
       "         -3.33349670e+02, -3.39872101e+02, -3.24694916e+02],\n",
       "        [ 1.68608826e+02,  1.68834839e+02,  1.76123337e+02, ...,\n",
       "          1.87226257e+02,  1.77240540e+02,  1.40733307e+02],\n",
       "        [-2.51671352e+01, -3.34582863e+01, -2.54479866e+01, ...,\n",
       "         -1.68039494e+01, -2.27427254e+01, -1.43661013e+01],\n",
       "        ...,\n",
       "        [-6.77784872e+00, -9.36603928e+00, -9.92324638e+00, ...,\n",
       "         -4.95226765e+00, -6.42251110e+00,  5.58720946e-01],\n",
       "        [-9.78286743e+00, -1.02523098e+01, -9.69045258e+00, ...,\n",
       "         -6.21549892e+00, -7.07393694e+00, -1.60860395e+00],\n",
       "        [-1.38286757e+00, -3.19440633e-01, -1.41531026e+00, ...,\n",
       "          2.64706522e-01, -7.20620155e+00, -3.55633163e+00]],\n",
       "\n",
       "       [[-3.19603271e+02, -3.25794403e+02, -3.33700958e+02, ...,\n",
       "         -3.14147644e+02, -3.10778229e+02, -3.04400513e+02],\n",
       "        [ 1.41114105e+02,  1.67660629e+02,  1.85060959e+02, ...,\n",
       "          1.94553467e+02,  1.99851044e+02,  1.84630249e+02],\n",
       "        [ 3.04416275e+00, -1.14666367e+01, -1.36315737e+01, ...,\n",
       "         -9.84522820e+00, -9.46896172e+00,  3.45894480e+00],\n",
       "        ...,\n",
       "        [ 3.90344715e+00, -5.17278290e+00, -1.71835709e+00, ...,\n",
       "         -2.08839726e+00, -1.83796740e+00, -7.34650373e-01],\n",
       "        [ 3.32020712e+00, -9.07795715e+00, -5.89632797e+00, ...,\n",
       "         -3.52480388e+00, -3.34237313e+00, -1.08717327e+01],\n",
       "        [-5.33832252e-01, -8.19436455e+00, -1.26479530e+00, ...,\n",
       "          8.82725000e-01,  4.90085572e-01, -8.27280807e+00]]],\n",
       "      dtype=float32)"
      ]
     },
     "execution_count": 431,
     "metadata": {},
     "output_type": "execute_result"
    }
   ],
   "source": [
    "sound_data"
   ]
  },
  {
   "cell_type": "code",
   "execution_count": 432,
   "metadata": {},
   "outputs": [],
   "source": [
    "# new_label = utils.to_categorical(labels, num_classes=len(label_encoder.classes_))\n",
    "# new_label"
   ]
  },
  {
   "cell_type": "code",
   "execution_count": 433,
   "metadata": {},
   "outputs": [
    {
     "data": {
      "text/plain": [
       "(28, 20, 126)"
      ]
     },
     "execution_count": 433,
     "metadata": {},
     "output_type": "execute_result"
    }
   ],
   "source": [
    "sound_data.shape"
   ]
  },
  {
   "cell_type": "code",
   "execution_count": 434,
   "metadata": {},
   "outputs": [
    {
     "data": {
      "text/plain": [
       "(28, 12)"
      ]
     },
     "execution_count": 434,
     "metadata": {},
     "output_type": "execute_result"
    }
   ],
   "source": [
    "labels.shape"
   ]
  },
  {
   "cell_type": "code",
   "execution_count": 435,
   "metadata": {},
   "outputs": [],
   "source": [
    "label = np.array(label)"
   ]
  },
  {
   "cell_type": "code",
   "execution_count": 436,
   "metadata": {},
   "outputs": [],
   "source": [
    "x_train, x_test, y_train, y_test = train_test_split(sound_data, label, test_size=0.2, random_state=42)\n"
   ]
  },
  {
   "cell_type": "code",
   "execution_count": 437,
   "metadata": {},
   "outputs": [
    {
     "data": {
      "text/plain": [
       "((22, 20, 126), (6, 20, 126), (22,), (6,))"
      ]
     },
     "execution_count": 437,
     "metadata": {},
     "output_type": "execute_result"
    }
   ],
   "source": [
    "x_train.shape, x_test.shape, y_train.shape, y_test.shape"
   ]
  },
  {
   "cell_type": "code",
   "execution_count": 438,
   "metadata": {},
   "outputs": [
    {
     "data": {
      "text/plain": [
       "(22, 20, 126)"
      ]
     },
     "execution_count": 438,
     "metadata": {},
     "output_type": "execute_result"
    }
   ],
   "source": [
    "x_train.shape"
   ]
  },
  {
   "cell_type": "code",
   "execution_count": null,
   "metadata": {},
   "outputs": [],
   "source": []
  },
  {
   "cell_type": "code",
   "execution_count": 439,
   "metadata": {},
   "outputs": [
    {
     "data": {
      "text/plain": [
       "9"
      ]
     },
     "execution_count": 439,
     "metadata": {},
     "output_type": "execute_result"
    }
   ],
   "source": [
    "y_train[0]"
   ]
  },
  {
   "cell_type": "code",
   "execution_count": 440,
   "metadata": {},
   "outputs": [
    {
     "data": {
      "text/plain": [
       "(20, 126)"
      ]
     },
     "execution_count": 440,
     "metadata": {},
     "output_type": "execute_result"
    }
   ],
   "source": [
    "padded_x_train[1].shape"
   ]
  },
  {
   "cell_type": "code",
   "execution_count": null,
   "metadata": {},
   "outputs": [],
   "source": []
  },
  {
   "cell_type": "code",
   "execution_count": 441,
   "metadata": {},
   "outputs": [],
   "source": [
    "# y_train = utils.to_categorical(y_train, num_classes=len(label_encoder.classes_))\n",
    "# y_test = utils.to_categorical(y_test, num_classes=len(label_encoder.classes_))"
   ]
  },
  {
   "cell_type": "code",
   "execution_count": 442,
   "metadata": {},
   "outputs": [
    {
     "data": {
      "text/plain": [
       "(array([ 9,  4,  3,  6,  6,  0,  1,  1,  1,  8,  4,  1,  0,  0, 10,  0,  4,\n",
       "         2,  4,  7, 11,  2]),\n",
       " array([3, 0, 2, 4, 0, 5]))"
      ]
     },
     "execution_count": 442,
     "metadata": {},
     "output_type": "execute_result"
    }
   ],
   "source": [
    "y_train, y_test"
   ]
  },
  {
   "cell_type": "code",
   "execution_count": 443,
   "metadata": {},
   "outputs": [
    {
     "data": {
      "text/plain": [
       "((22, 20, 126), (6, 20, 126), (22,), (6,))"
      ]
     },
     "execution_count": 443,
     "metadata": {},
     "output_type": "execute_result"
    }
   ],
   "source": [
    "x_train.shape, x_test.shape, y_train.shape, y_test.shape"
   ]
  },
  {
   "cell_type": "code",
   "execution_count": 444,
   "metadata": {},
   "outputs": [],
   "source": [
    "from tensorflow import keras\n",
    "model = keras.Sequential()\n",
    "# Adding the first CNN layers\n",
    "# input shape= (height, width, 1)\n",
    "model.add(keras.layers.Conv2D(filters=32, kernel_size=(3, 3), activation='relu', input_shape=(x_train.shape[1], x_train.shape[2], 1)))\n",
    "# Adding the second layer with maxpooling\n",
    "model.add(keras.layers.MaxPooling2D(pool_size=(2, 2)))\n",
    "\n",
    "\n",
    "# Adding the third layer\n",
    "model.add(keras.layers.Conv2D(filters=64, kernel_size=(3, 3), activation='relu'))\n",
    "# Adding the fourth layer with maxpooling\n",
    "model.add(keras.layers.MaxPooling2D(pool_size=(2, 2)))\n",
    "\n",
    "# Adding the flatten layer\n",
    "model.add(keras.layers.Flatten())\n",
    "# Adding the first dense layer\n",
    "# units = 128 is the number of neurons\n",
    "model.add(keras.layers.Dense(units=128, activation='relu'))\n",
    "model.add(keras.layers.Dropout(rate=0.5))\n",
    "\n",
    "\n",
    "\n",
    "model.add(keras.layers.Dense(units=64, activation='relu'))\n",
    "model.add(keras.layers.Dropout(rate=0.5))\n",
    "\n",
    "\n",
    "# Add the second dense layer (output layer)\n",
    "model.add(keras.layers.Dense(units=len(words), activation='softmax'))"
   ]
  },
  {
   "cell_type": "code",
   "execution_count": 445,
   "metadata": {},
   "outputs": [],
   "source": [
    "x_train = np.expand_dims(x_train, axis=-1)\n",
    "x_test = np.expand_dims(x_test, axis=-1)"
   ]
  },
  {
   "cell_type": "code",
   "execution_count": 446,
   "metadata": {},
   "outputs": [
    {
     "name": "stdout",
     "output_type": "stream",
     "text": [
      "Model: \"sequential_7\"\n",
      "_________________________________________________________________\n",
      " Layer (type)                Output Shape              Param #   \n",
      "=================================================================\n",
      " conv2d_14 (Conv2D)          (None, 18, 124, 32)       320       \n",
      "                                                                 \n",
      " max_pooling2d_14 (MaxPoolin  (None, 9, 62, 32)        0         \n",
      " g2D)                                                            \n",
      "                                                                 \n",
      " conv2d_15 (Conv2D)          (None, 7, 60, 64)         18496     \n",
      "                                                                 \n",
      " max_pooling2d_15 (MaxPoolin  (None, 3, 30, 64)        0         \n",
      " g2D)                                                            \n",
      "                                                                 \n",
      " flatten_7 (Flatten)         (None, 5760)              0         \n",
      "                                                                 \n",
      " dense_20 (Dense)            (None, 128)               737408    \n",
      "                                                                 \n",
      " dropout_14 (Dropout)        (None, 128)               0         \n",
      "                                                                 \n",
      " dense_21 (Dense)            (None, 64)                8256      \n",
      "                                                                 \n",
      " dropout_15 (Dropout)        (None, 64)                0         \n",
      "                                                                 \n",
      " dense_22 (Dense)            (None, 12)                780       \n",
      "                                                                 \n",
      "=================================================================\n",
      "Total params: 765,260\n",
      "Trainable params: 765,260\n",
      "Non-trainable params: 0\n",
      "_________________________________________________________________\n"
     ]
    }
   ],
   "source": [
    "model.summary()"
   ]
  },
  {
   "cell_type": "code",
   "execution_count": 447,
   "metadata": {},
   "outputs": [
    {
     "data": {
      "text/plain": [
       "((20, 126, 1), (20, 126, 1), (20, 126, 1))"
      ]
     },
     "execution_count": 447,
     "metadata": {},
     "output_type": "execute_result"
    }
   ],
   "source": [
    "x_train[0].shape, x_train[1].shape, x_train[2].shape\n"
   ]
  },
  {
   "cell_type": "code",
   "execution_count": 448,
   "metadata": {},
   "outputs": [],
   "source": [
    "# y_train = utils.to_categorical(y_train, num_classes=len(label_encoder.classes_))\n",
    "# y_test = utils.to_categorical(y_test, num_classes=len(label_encoder.classes_))"
   ]
  },
  {
   "cell_type": "code",
   "execution_count": 449,
   "metadata": {},
   "outputs": [
    {
     "data": {
      "text/plain": [
       "array([[1., 0., 0., 0., 0., 0., 0., 0., 0., 0., 0., 0.],\n",
       "       [1., 0., 0., 0., 0., 0., 0., 0., 0., 0., 0., 0.],\n",
       "       [0., 1., 0., 0., 0., 0., 0., 0., 0., 0., 0., 0.],\n",
       "       [0., 1., 0., 0., 0., 0., 0., 0., 0., 0., 0., 0.],\n",
       "       [0., 1., 0., 0., 0., 0., 0., 0., 0., 0., 0., 0.],\n",
       "       [0., 1., 0., 0., 0., 0., 0., 0., 0., 0., 0., 0.],\n",
       "       [0., 0., 1., 0., 0., 0., 0., 0., 0., 0., 0., 0.],\n",
       "       [0., 0., 1., 0., 0., 0., 0., 0., 0., 0., 0., 0.],\n",
       "       [0., 0., 1., 0., 0., 0., 0., 0., 0., 0., 0., 0.],\n",
       "       [0., 0., 0., 1., 0., 0., 0., 0., 0., 0., 0., 0.],\n",
       "       [0., 0., 0., 0., 1., 0., 0., 0., 0., 0., 0., 0.],\n",
       "       [0., 0., 0., 1., 0., 0., 0., 0., 0., 0., 0., 0.],\n",
       "       [0., 0., 0., 0., 0., 1., 0., 0., 0., 0., 0., 0.],\n",
       "       [0., 0., 0., 0., 0., 0., 1., 0., 0., 0., 0., 0.],\n",
       "       [0., 0., 0., 0., 0., 0., 0., 1., 0., 0., 0., 0.],\n",
       "       [0., 0., 0., 0., 0., 0., 1., 0., 0., 0., 0., 0.],\n",
       "       [0., 0., 0., 0., 0., 0., 0., 0., 1., 0., 0., 0.],\n",
       "       [0., 0., 0., 0., 0., 0., 0., 0., 0., 1., 0., 0.],\n",
       "       [0., 0., 0., 0., 0., 0., 0., 0., 0., 0., 1., 0.],\n",
       "       [0., 0., 0., 0., 0., 0., 0., 0., 0., 0., 0., 1.],\n",
       "       [0., 0., 0., 0., 1., 0., 0., 0., 0., 0., 0., 0.],\n",
       "       [0., 0., 0., 0., 1., 0., 0., 0., 0., 0., 0., 0.],\n",
       "       [0., 0., 0., 0., 1., 0., 0., 0., 0., 0., 0., 0.],\n",
       "       [0., 0., 0., 0., 1., 0., 0., 0., 0., 0., 0., 0.],\n",
       "       [1., 0., 0., 0., 0., 0., 0., 0., 0., 0., 0., 0.],\n",
       "       [1., 0., 0., 0., 0., 0., 0., 0., 0., 0., 0., 0.],\n",
       "       [1., 0., 0., 0., 0., 0., 0., 0., 0., 0., 0., 0.],\n",
       "       [1., 0., 0., 0., 0., 0., 0., 0., 0., 0., 0., 0.]], dtype=float32)"
      ]
     },
     "execution_count": 449,
     "metadata": {},
     "output_type": "execute_result"
    }
   ],
   "source": [
    "labels"
   ]
  },
  {
   "cell_type": "code",
   "execution_count": 450,
   "metadata": {},
   "outputs": [
    {
     "data": {
      "text/plain": [
       "((22, 20, 126, 1, 1), (22,), (6, 20, 126, 1, 1), (6,))"
      ]
     },
     "execution_count": 450,
     "metadata": {},
     "output_type": "execute_result"
    }
   ],
   "source": [
    "np.expand_dims(x_train, axis=-1).shape, y_train.shape, np.expand_dims(x_test, axis=-1).shape, y_test.shape"
   ]
  },
  {
   "cell_type": "code",
   "execution_count": 451,
   "metadata": {},
   "outputs": [
    {
     "data": {
      "text/plain": [
       "((22,), (6,))"
      ]
     },
     "execution_count": 451,
     "metadata": {},
     "output_type": "execute_result"
    }
   ],
   "source": [
    "y_train.shape, y_test.shape"
   ]
  },
  {
   "cell_type": "code",
   "execution_count": 452,
   "metadata": {},
   "outputs": [
    {
     "data": {
      "text/plain": [
       "(22, 20, 126, 1)"
      ]
     },
     "execution_count": 452,
     "metadata": {},
     "output_type": "execute_result"
    }
   ],
   "source": [
    "x_train.shape"
   ]
  },
  {
   "cell_type": "code",
   "execution_count": 453,
   "metadata": {},
   "outputs": [
    {
     "data": {
      "text/plain": [
       "(22, 20, 126, 1, 1)"
      ]
     },
     "execution_count": 453,
     "metadata": {},
     "output_type": "execute_result"
    }
   ],
   "source": [
    "np.expand_dims(x_train, axis=-1).shape"
   ]
  },
  {
   "cell_type": "code",
   "execution_count": 454,
   "metadata": {},
   "outputs": [
    {
     "data": {
      "text/plain": [
       "(22,)"
      ]
     },
     "execution_count": 454,
     "metadata": {},
     "output_type": "execute_result"
    }
   ],
   "source": [
    "y_train.shape"
   ]
  },
  {
   "cell_type": "code",
   "execution_count": 455,
   "metadata": {},
   "outputs": [
    {
     "data": {
      "text/plain": [
       "array([ 9,  4,  3,  6,  6,  0,  1,  1,  1,  8,  4,  1,  0,  0, 10,  0,  4,\n",
       "        2,  4,  7, 11,  2])"
      ]
     },
     "execution_count": 455,
     "metadata": {},
     "output_type": "execute_result"
    }
   ],
   "source": [
    "y_train"
   ]
  },
  {
   "cell_type": "code",
   "execution_count": 456,
   "metadata": {},
   "outputs": [
    {
     "data": {
      "text/plain": [
       "array([3, 0, 2, 4, 0, 5])"
      ]
     },
     "execution_count": 456,
     "metadata": {},
     "output_type": "execute_result"
    }
   ],
   "source": [
    "y_test"
   ]
  },
  {
   "cell_type": "code",
   "execution_count": 457,
   "metadata": {},
   "outputs": [
    {
     "data": {
      "text/plain": [
       "(22, 20, 126, 1)"
      ]
     },
     "execution_count": 457,
     "metadata": {},
     "output_type": "execute_result"
    }
   ],
   "source": [
    "x_train.shape"
   ]
  },
  {
   "cell_type": "code",
   "execution_count": 458,
   "metadata": {},
   "outputs": [
    {
     "data": {
      "text/plain": [
       "(22,)"
      ]
     },
     "execution_count": 458,
     "metadata": {},
     "output_type": "execute_result"
    }
   ],
   "source": [
    "y_train.shape"
   ]
  },
  {
   "cell_type": "code",
   "execution_count": 459,
   "metadata": {},
   "outputs": [
    {
     "data": {
      "text/plain": [
       "(22, 20, 126, 1)"
      ]
     },
     "execution_count": 459,
     "metadata": {},
     "output_type": "execute_result"
    }
   ],
   "source": [
    "x_train.shape"
   ]
  },
  {
   "cell_type": "code",
   "execution_count": 460,
   "metadata": {},
   "outputs": [
    {
     "data": {
      "text/plain": [
       "(22,)"
      ]
     },
     "execution_count": 460,
     "metadata": {},
     "output_type": "execute_result"
    }
   ],
   "source": [
    "y_train.shape"
   ]
  },
  {
   "cell_type": "code",
   "execution_count": 461,
   "metadata": {},
   "outputs": [
    {
     "data": {
      "text/plain": [
       "array([ 9,  4,  3,  6,  6,  0,  1,  1,  1,  8,  4,  1,  0,  0, 10,  0,  4,\n",
       "        2,  4,  7, 11,  2])"
      ]
     },
     "execution_count": 461,
     "metadata": {},
     "output_type": "execute_result"
    }
   ],
   "source": [
    "y_train"
   ]
  },
  {
   "cell_type": "code",
   "execution_count": 462,
   "metadata": {},
   "outputs": [],
   "source": [
    "y_train = utils.to_categorical(y_train, num_classes=len(label_encoder.classes_))\n",
    "y_test = utils.to_categorical(y_test, num_classes=len(label_encoder.classes_))\n"
   ]
  },
  {
   "cell_type": "code",
   "execution_count": 463,
   "metadata": {},
   "outputs": [
    {
     "data": {
      "text/plain": [
       "array([[0., 0., 0., 0., 0., 0., 0., 0., 0., 1., 0., 0.],\n",
       "       [0., 0., 0., 0., 1., 0., 0., 0., 0., 0., 0., 0.],\n",
       "       [0., 0., 0., 1., 0., 0., 0., 0., 0., 0., 0., 0.],\n",
       "       [0., 0., 0., 0., 0., 0., 1., 0., 0., 0., 0., 0.],\n",
       "       [0., 0., 0., 0., 0., 0., 1., 0., 0., 0., 0., 0.],\n",
       "       [1., 0., 0., 0., 0., 0., 0., 0., 0., 0., 0., 0.],\n",
       "       [0., 1., 0., 0., 0., 0., 0., 0., 0., 0., 0., 0.],\n",
       "       [0., 1., 0., 0., 0., 0., 0., 0., 0., 0., 0., 0.],\n",
       "       [0., 1., 0., 0., 0., 0., 0., 0., 0., 0., 0., 0.],\n",
       "       [0., 0., 0., 0., 0., 0., 0., 0., 1., 0., 0., 0.],\n",
       "       [0., 0., 0., 0., 1., 0., 0., 0., 0., 0., 0., 0.],\n",
       "       [0., 1., 0., 0., 0., 0., 0., 0., 0., 0., 0., 0.],\n",
       "       [1., 0., 0., 0., 0., 0., 0., 0., 0., 0., 0., 0.],\n",
       "       [1., 0., 0., 0., 0., 0., 0., 0., 0., 0., 0., 0.],\n",
       "       [0., 0., 0., 0., 0., 0., 0., 0., 0., 0., 1., 0.],\n",
       "       [1., 0., 0., 0., 0., 0., 0., 0., 0., 0., 0., 0.],\n",
       "       [0., 0., 0., 0., 1., 0., 0., 0., 0., 0., 0., 0.],\n",
       "       [0., 0., 1., 0., 0., 0., 0., 0., 0., 0., 0., 0.],\n",
       "       [0., 0., 0., 0., 1., 0., 0., 0., 0., 0., 0., 0.],\n",
       "       [0., 0., 0., 0., 0., 0., 0., 1., 0., 0., 0., 0.],\n",
       "       [0., 0., 0., 0., 0., 0., 0., 0., 0., 0., 0., 1.],\n",
       "       [0., 0., 1., 0., 0., 0., 0., 0., 0., 0., 0., 0.]], dtype=float32)"
      ]
     },
     "execution_count": 463,
     "metadata": {},
     "output_type": "execute_result"
    }
   ],
   "source": [
    "y_train"
   ]
  },
  {
   "cell_type": "code",
   "execution_count": 464,
   "metadata": {},
   "outputs": [
    {
     "name": "stdout",
     "output_type": "stream",
     "text": [
      "Epoch 1/10\n"
     ]
    },
    {
     "name": "stdout",
     "output_type": "stream",
     "text": [
      "1/1 [==============================] - 2s 2s/step - loss: 31.1175 - accuracy: 0.0909 - val_loss: 10.2406 - val_accuracy: 0.1667\n",
      "Epoch 2/10\n",
      "1/1 [==============================] - 0s 102ms/step - loss: 21.1426 - accuracy: 0.1818 - val_loss: 11.5348 - val_accuracy: 0.1667\n",
      "Epoch 3/10\n",
      "1/1 [==============================] - 0s 87ms/step - loss: 19.7298 - accuracy: 0.3636 - val_loss: 7.9667 - val_accuracy: 0.1667\n",
      "Epoch 4/10\n",
      "1/1 [==============================] - 0s 83ms/step - loss: 17.3658 - accuracy: 0.0909 - val_loss: 3.9524 - val_accuracy: 0.1667\n",
      "Epoch 5/10\n",
      "1/1 [==============================] - 0s 76ms/step - loss: 11.9245 - accuracy: 0.2727 - val_loss: 4.9744 - val_accuracy: 0.1667\n",
      "Epoch 6/10\n",
      "1/1 [==============================] - 0s 78ms/step - loss: 10.8607 - accuracy: 0.1364 - val_loss: 4.0845 - val_accuracy: 0.1667\n",
      "Epoch 7/10\n",
      "1/1 [==============================] - 0s 75ms/step - loss: 10.7447 - accuracy: 0.0909 - val_loss: 3.4352 - val_accuracy: 0.1667\n",
      "Epoch 8/10\n",
      "1/1 [==============================] - 0s 94ms/step - loss: 6.1840 - accuracy: 0.1364 - val_loss: 2.7503 - val_accuracy: 0.1667\n",
      "Epoch 9/10\n",
      "1/1 [==============================] - 0s 112ms/step - loss: 4.4888 - accuracy: 0.0909 - val_loss: 2.4524 - val_accuracy: 0.3333\n",
      "Epoch 10/10\n",
      "1/1 [==============================] - 0s 99ms/step - loss: 3.2316 - accuracy: 0.1364 - val_loss: 2.4190 - val_accuracy: 0.1667\n"
     ]
    },
    {
     "data": {
      "text/plain": [
       "<keras.callbacks.History at 0x16c633083d0>"
      ]
     },
     "execution_count": 464,
     "metadata": {},
     "output_type": "execute_result"
    }
   ],
   "source": [
    "model.compile(optimizer='adam', loss='categorical_crossentropy', metrics=['accuracy'])\n",
    "model.fit(x_train, y_train, epochs=10, batch_size=32, validation_data=(x_test, y_test))"
   ]
  },
  {
   "cell_type": "code",
   "execution_count": 465,
   "metadata": {},
   "outputs": [
    {
     "name": "stdout",
     "output_type": "stream",
     "text": [
      "1/1 [==============================] - 0s 109ms/step\n"
     ]
    }
   ],
   "source": [
    "y_pred = model.predict(np.expand_dims(x_test, axis=-1))"
   ]
  },
  {
   "cell_type": "code",
   "execution_count": 466,
   "metadata": {},
   "outputs": [
    {
     "data": {
      "text/plain": [
       "array([[1, 1, 0, 0, 0, 0, 0],\n",
       "       [0, 0, 0, 0, 0, 0, 0],\n",
       "       [1, 0, 0, 0, 0, 0, 0],\n",
       "       [0, 0, 0, 0, 0, 0, 1],\n",
       "       [0, 0, 1, 0, 0, 0, 0],\n",
       "       [0, 0, 1, 0, 0, 0, 0],\n",
       "       [0, 0, 0, 0, 0, 0, 0]], dtype=int64)"
      ]
     },
     "execution_count": 466,
     "metadata": {},
     "output_type": "execute_result"
    }
   ],
   "source": [
    "# import  accuracy score, matrix\n",
    "from sklearn.metrics import accuracy_score, confusion_matrix\n",
    "accuracy_score(y_test, y_pred.round())\n",
    "confusion_matrix(y_test.argmax(axis=1), y_pred.argmax(axis=1))\n",
    "\n"
   ]
  },
  {
   "cell_type": "code",
   "execution_count": 467,
   "metadata": {},
   "outputs": [
    {
     "data": {
      "text/plain": [
       "array([[0., 0., 0., 1., 0., 0., 0., 0., 0., 0., 0., 0.],\n",
       "       [1., 0., 0., 0., 0., 0., 0., 0., 0., 0., 0., 0.],\n",
       "       [0., 0., 1., 0., 0., 0., 0., 0., 0., 0., 0., 0.],\n",
       "       [0., 0., 0., 0., 1., 0., 0., 0., 0., 0., 0., 0.],\n",
       "       [1., 0., 0., 0., 0., 0., 0., 0., 0., 0., 0., 0.],\n",
       "       [0., 0., 0., 0., 0., 1., 0., 0., 0., 0., 0., 0.]], dtype=float32)"
      ]
     },
     "execution_count": 467,
     "metadata": {},
     "output_type": "execute_result"
    }
   ],
   "source": [
    "y_test"
   ]
  },
  {
   "cell_type": "code",
   "execution_count": 468,
   "metadata": {},
   "outputs": [
    {
     "data": {
      "text/plain": [
       "(array([3, 0, 2, 4, 0, 5], dtype=int64),\n",
       " array([6, 1, 0, 2, 0, 2], dtype=int64))"
      ]
     },
     "execution_count": 468,
     "metadata": {},
     "output_type": "execute_result"
    }
   ],
   "source": [
    "y_test.argmax(axis=1), y_pred.argmax(axis=1)"
   ]
  },
  {
   "cell_type": "code",
   "execution_count": 469,
   "metadata": {},
   "outputs": [],
   "source": [
    "new_sound_file = \"baral.wav\"\n",
    "new_sound_data, sample_rate = librosa.load(new_sound_file, sr=None)\n",
    "new_sound_data = librosa.feature.mfcc(y=new_sound_data, sr=sample_rate)\n"
   ]
  },
  {
   "cell_type": "code",
   "execution_count": 470,
   "metadata": {},
   "outputs": [],
   "source": [
    "max_length = max(new_sound_data.shape[1], max_length)\n",
    "padding = np.zeros((new_sound_data.shape[0], max_length - new_sound_data.shape[1]))\n",
    "padded_new_sound_data = np.concatenate([new_sound_data, padding], axis=1)"
   ]
  },
  {
   "cell_type": "code",
   "execution_count": 471,
   "metadata": {},
   "outputs": [],
   "source": [
    "padded_new_sound_data = np.expand_dims(padded_new_sound_data, axis=-1)\n",
    "padded_new_sound_data = np.expand_dims(padded_new_sound_data, axis=0)\n"
   ]
  },
  {
   "cell_type": "code",
   "execution_count": 472,
   "metadata": {},
   "outputs": [
    {
     "name": "stdout",
     "output_type": "stream",
     "text": [
      "1/1 [==============================] - 0s 128ms/step\n"
     ]
    }
   ],
   "source": [
    "prediction = model.predict(padded_new_sound_data)"
   ]
  },
  {
   "cell_type": "code",
   "execution_count": 473,
   "metadata": {},
   "outputs": [
    {
     "data": {
      "text/plain": [
       "['Naam',\n",
       " 'Saurabh',\n",
       " 'Baral',\n",
       " 'ho',\n",
       " 'Miro',\n",
       " 'tapai',\n",
       " 'Ko',\n",
       " 'tapay',\n",
       " 'xa',\n",
       " 'I',\n",
       " 'love',\n",
       " 'you']"
      ]
     },
     "execution_count": 473,
     "metadata": {},
     "output_type": "execute_result"
    }
   ],
   "source": [
    "words"
   ]
  },
  {
   "cell_type": "code",
   "execution_count": 474,
   "metadata": {},
   "outputs": [
    {
     "data": {
      "text/plain": [
       "0"
      ]
     },
     "execution_count": 474,
     "metadata": {},
     "output_type": "execute_result"
    }
   ],
   "source": [
    "np.argmax(prediction)"
   ]
  },
  {
   "cell_type": "code",
   "execution_count": 475,
   "metadata": {},
   "outputs": [
    {
     "data": {
      "text/plain": [
       "'Naam'"
      ]
     },
     "execution_count": 475,
     "metadata": {},
     "output_type": "execute_result"
    }
   ],
   "source": [
    "words[np.argmax(prediction)]"
   ]
  },
  {
   "cell_type": "code",
   "execution_count": null,
   "metadata": {},
   "outputs": [],
   "source": []
  },
  {
   "cell_type": "code",
   "execution_count": null,
   "metadata": {},
   "outputs": [],
   "source": []
  },
  {
   "cell_type": "code",
   "execution_count": null,
   "metadata": {},
   "outputs": [],
   "source": []
  },
  {
   "cell_type": "code",
   "execution_count": null,
   "metadata": {},
   "outputs": [],
   "source": []
  },
  {
   "cell_type": "code",
   "execution_count": null,
   "metadata": {},
   "outputs": [],
   "source": []
  },
  {
   "cell_type": "code",
   "execution_count": null,
   "metadata": {},
   "outputs": [],
   "source": []
  },
  {
   "cell_type": "code",
   "execution_count": null,
   "metadata": {},
   "outputs": [],
   "source": []
  },
  {
   "cell_type": "code",
   "execution_count": null,
   "metadata": {},
   "outputs": [],
   "source": []
  },
  {
   "cell_type": "code",
   "execution_count": null,
   "metadata": {},
   "outputs": [],
   "source": []
  },
  {
   "cell_type": "code",
   "execution_count": null,
   "metadata": {},
   "outputs": [],
   "source": []
  },
  {
   "cell_type": "code",
   "execution_count": null,
   "metadata": {},
   "outputs": [],
   "source": []
  },
  {
   "cell_type": "code",
   "execution_count": null,
   "metadata": {},
   "outputs": [],
   "source": []
  },
  {
   "cell_type": "code",
   "execution_count": null,
   "metadata": {},
   "outputs": [],
   "source": []
  },
  {
   "cell_type": "code",
   "execution_count": null,
   "metadata": {},
   "outputs": [],
   "source": []
  },
  {
   "cell_type": "code",
   "execution_count": null,
   "metadata": {},
   "outputs": [],
   "source": []
  },
  {
   "cell_type": "code",
   "execution_count": null,
   "metadata": {},
   "outputs": [],
   "source": []
  },
  {
   "cell_type": "code",
   "execution_count": null,
   "metadata": {},
   "outputs": [],
   "source": []
  },
  {
   "cell_type": "code",
   "execution_count": null,
   "metadata": {},
   "outputs": [],
   "source": []
  },
  {
   "cell_type": "code",
   "execution_count": null,
   "metadata": {},
   "outputs": [],
   "source": []
  },
  {
   "cell_type": "code",
   "execution_count": null,
   "metadata": {},
   "outputs": [],
   "source": []
  },
  {
   "cell_type": "code",
   "execution_count": null,
   "metadata": {},
   "outputs": [],
   "source": []
  },
  {
   "cell_type": "code",
   "execution_count": null,
   "metadata": {},
   "outputs": [],
   "source": []
  }
 ],
 "metadata": {
  "kernelspec": {
   "display_name": "Python 3",
   "language": "python",
   "name": "python3"
  },
  "language_info": {
   "codemirror_mode": {
    "name": "ipython",
    "version": 3
   },
   "file_extension": ".py",
   "mimetype": "text/x-python",
   "name": "python",
   "nbconvert_exporter": "python",
   "pygments_lexer": "ipython3",
   "version": "3.9.5"
  },
  "orig_nbformat": 4
 },
 "nbformat": 4,
 "nbformat_minor": 2
}

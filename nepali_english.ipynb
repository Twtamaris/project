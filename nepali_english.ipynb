{
 "cells": [
  {
   "cell_type": "code",
   "execution_count": 13,
   "metadata": {},
   "outputs": [
    {
     "name": "stdout",
     "output_type": "stream",
     "text": [
      "Listening...\n",
      "You said: bachwa\n",
      "Listening...\n",
      "You said: साले\n",
      "Listening...\n",
      "You said: bachba\n",
      "Listening...\n",
      "Sorry, I could not understand.\n",
      "Listening...\n",
      "You said: साले\n",
      "Listening...\n",
      "You said: home\n",
      "Listening...\n",
      "You said: मेरो नाम 16 baralo\n",
      "Listening...\n",
      "Sorry, I could not understand.\n",
      "Listening...\n"
     ]
    },
    {
     "ename": "KeyboardInterrupt",
     "evalue": "",
     "output_type": "error",
     "traceback": [
      "\u001b[1;31m---------------------------------------------------------------------------\u001b[0m",
      "\u001b[1;31mKeyboardInterrupt\u001b[0m                         Traceback (most recent call last)",
      "\u001b[1;32mc:\\Users\\baral\\Desktop\\project\\nepali_english.ipynb Cell 1\u001b[0m in \u001b[0;36m<cell line: 44>\u001b[1;34m()\u001b[0m\n\u001b[0;32m     <a href='vscode-notebook-cell:/c%3A/Users/baral/Desktop/project/nepali_english.ipynb#X10sZmlsZQ%3D%3D?line=41'>42</a>\u001b[0m \u001b[39m# Continuously convert voice to text until interrupted\u001b[39;00m\n\u001b[0;32m     <a href='vscode-notebook-cell:/c%3A/Users/baral/Desktop/project/nepali_english.ipynb#X10sZmlsZQ%3D%3D?line=42'>43</a>\u001b[0m \u001b[39mwhile\u001b[39;00m \u001b[39mTrue\u001b[39;00m:\n\u001b[1;32m---> <a href='vscode-notebook-cell:/c%3A/Users/baral/Desktop/project/nepali_english.ipynb#X10sZmlsZQ%3D%3D?line=43'>44</a>\u001b[0m     text \u001b[39m=\u001b[39m convert_voice_to_text()\n\u001b[0;32m     <a href='vscode-notebook-cell:/c%3A/Users/baral/Desktop/project/nepali_english.ipynb#X10sZmlsZQ%3D%3D?line=44'>45</a>\u001b[0m     \u001b[39mif\u001b[39;00m \u001b[39m'\u001b[39m\u001b[39mstop\u001b[39m\u001b[39m'\u001b[39m \u001b[39min\u001b[39;00m text:\n\u001b[0;32m     <a href='vscode-notebook-cell:/c%3A/Users/baral/Desktop/project/nepali_english.ipynb#X10sZmlsZQ%3D%3D?line=45'>46</a>\u001b[0m         \u001b[39mbreak\u001b[39;00m\n",
      "\u001b[1;32mc:\\Users\\baral\\Desktop\\project\\nepali_english.ipynb Cell 1\u001b[0m in \u001b[0;36mconvert_voice_to_text\u001b[1;34m()\u001b[0m\n\u001b[0;32m     <a href='vscode-notebook-cell:/c%3A/Users/baral/Desktop/project/nepali_english.ipynb#X10sZmlsZQ%3D%3D?line=22'>23</a>\u001b[0m \u001b[39mprint\u001b[39m(\u001b[39m\"\u001b[39m\u001b[39mListening...\u001b[39m\u001b[39m\"\u001b[39m)\n\u001b[0;32m     <a href='vscode-notebook-cell:/c%3A/Users/baral/Desktop/project/nepali_english.ipynb#X10sZmlsZQ%3D%3D?line=24'>25</a>\u001b[0m \u001b[39m# Listen for user input\u001b[39;00m\n\u001b[1;32m---> <a href='vscode-notebook-cell:/c%3A/Users/baral/Desktop/project/nepali_english.ipynb#X10sZmlsZQ%3D%3D?line=25'>26</a>\u001b[0m audio \u001b[39m=\u001b[39m r\u001b[39m.\u001b[39;49mlisten(source)\n\u001b[0;32m     <a href='vscode-notebook-cell:/c%3A/Users/baral/Desktop/project/nepali_english.ipynb#X10sZmlsZQ%3D%3D?line=27'>28</a>\u001b[0m \u001b[39mtry\u001b[39;00m:\n\u001b[0;32m     <a href='vscode-notebook-cell:/c%3A/Users/baral/Desktop/project/nepali_english.ipynb#X10sZmlsZQ%3D%3D?line=28'>29</a>\u001b[0m     \u001b[39m# Convert audio to text (Hindi language)\u001b[39;00m\n\u001b[0;32m     <a href='vscode-notebook-cell:/c%3A/Users/baral/Desktop/project/nepali_english.ipynb#X10sZmlsZQ%3D%3D?line=29'>30</a>\u001b[0m     text \u001b[39m=\u001b[39m r\u001b[39m.\u001b[39mrecognize_google(audio, language\u001b[39m=\u001b[39m\u001b[39m'\u001b[39m\u001b[39mne-NP\u001b[39m\u001b[39m'\u001b[39m)\n",
      "File \u001b[1;32mc:\\Users\\baral\\AppData\\Local\\Programs\\Python\\Python39\\lib\\site-packages\\speech_recognition\\__init__.py:652\u001b[0m, in \u001b[0;36mRecognizer.listen\u001b[1;34m(self, source, timeout, phrase_time_limit, snowboy_configuration)\u001b[0m\n\u001b[0;32m    649\u001b[0m \u001b[39mif\u001b[39;00m phrase_time_limit \u001b[39mand\u001b[39;00m elapsed_time \u001b[39m-\u001b[39m phrase_start_time \u001b[39m>\u001b[39m phrase_time_limit:\n\u001b[0;32m    650\u001b[0m     \u001b[39mbreak\u001b[39;00m\n\u001b[1;32m--> 652\u001b[0m buffer \u001b[39m=\u001b[39m source\u001b[39m.\u001b[39;49mstream\u001b[39m.\u001b[39;49mread(source\u001b[39m.\u001b[39;49mCHUNK)\n\u001b[0;32m    653\u001b[0m \u001b[39mif\u001b[39;00m \u001b[39mlen\u001b[39m(buffer) \u001b[39m==\u001b[39m \u001b[39m0\u001b[39m: \u001b[39mbreak\u001b[39;00m  \u001b[39m# reached end of the stream\u001b[39;00m\n\u001b[0;32m    654\u001b[0m frames\u001b[39m.\u001b[39mappend(buffer)\n",
      "File \u001b[1;32mc:\\Users\\baral\\AppData\\Local\\Programs\\Python\\Python39\\lib\\site-packages\\speech_recognition\\__init__.py:161\u001b[0m, in \u001b[0;36mMicrophone.MicrophoneStream.read\u001b[1;34m(self, size)\u001b[0m\n\u001b[0;32m    160\u001b[0m \u001b[39mdef\u001b[39;00m \u001b[39mread\u001b[39m(\u001b[39mself\u001b[39m, size):\n\u001b[1;32m--> 161\u001b[0m     \u001b[39mreturn\u001b[39;00m \u001b[39mself\u001b[39;49m\u001b[39m.\u001b[39;49mpyaudio_stream\u001b[39m.\u001b[39;49mread(size, exception_on_overflow\u001b[39m=\u001b[39;49m\u001b[39mFalse\u001b[39;49;00m)\n",
      "File \u001b[1;32mc:\\Users\\baral\\AppData\\Local\\Programs\\Python\\Python39\\lib\\site-packages\\pyaudio.py:608\u001b[0m, in \u001b[0;36mStream.read\u001b[1;34m(self, num_frames, exception_on_overflow)\u001b[0m\n\u001b[0;32m    604\u001b[0m \u001b[39mif\u001b[39;00m \u001b[39mnot\u001b[39;00m \u001b[39mself\u001b[39m\u001b[39m.\u001b[39m_is_input:\n\u001b[0;32m    605\u001b[0m     \u001b[39mraise\u001b[39;00m \u001b[39mIOError\u001b[39;00m(\u001b[39m\"\u001b[39m\u001b[39mNot input stream\u001b[39m\u001b[39m\"\u001b[39m,\n\u001b[0;32m    606\u001b[0m                   paCanNotReadFromAnOutputOnlyStream)\n\u001b[1;32m--> 608\u001b[0m \u001b[39mreturn\u001b[39;00m pa\u001b[39m.\u001b[39;49mread_stream(\u001b[39mself\u001b[39;49m\u001b[39m.\u001b[39;49m_stream, num_frames, exception_on_overflow)\n",
      "\u001b[1;31mKeyboardInterrupt\u001b[0m: "
     ]
    }
   ],
   "source": [
    "import speech_recognition as sr\n",
    "from googletrans import Translator\n",
    "words = []\n",
    "\n",
    "# Initialize the recognizer\n",
    "r = sr.Recognizer()\n",
    "translator = Translator()\n",
    "\n",
    "def convert_english_to_nepali(text):\n",
    "    # Translate the text from English to Nepali\n",
    "    translated_text = translator.translate(text, src='en', dest='ne')\n",
    "    return translated_text.text\n",
    "\n",
    "\n",
    "# Set the microphone as the source\n",
    "mic = sr.Microphone()\n",
    "\n",
    "# Function to convert voice to text\n",
    "def convert_voice_to_text():\n",
    "    with mic as source:\n",
    "        # Adjust for ambient noise\n",
    "        r.adjust_for_ambient_noise(source)\n",
    "        print(\"Listening...\")\n",
    "\n",
    "        # Listen for user input\n",
    "        audio = r.listen(source)\n",
    "\n",
    "        try:\n",
    "            # Convert audio to text (Hindi language)\n",
    "            text = r.recognize_google(audio, language='ne-NP')\n",
    "            print(\"You said:\", text)\n",
    "            \n",
    "        except sr.UnknownValueError:\n",
    "            print(\"Sorry, I could not understand.\")\n",
    "            text = ''\n",
    "\n",
    "        except sr.RequestError as e:\n",
    "            print(\"Sorry, an error occurred:\", str(e))\n",
    "            text= ''\n",
    "\n",
    "    return text\n",
    "# Continuously convert voice to text until interrupted\n",
    "while True:\n",
    "    text = convert_voice_to_text()\n",
    "    if 'stop' in text:\n",
    "        break\n",
    "    text = text.split(' ')\n",
    "    for word in text:\n",
    "        words.append(word)\n",
    "    \n",
    "\n",
    "\n",
    "    \n",
    "\n",
    "    \n"
   ]
  },
  {
   "cell_type": "code",
   "execution_count": 7,
   "metadata": {},
   "outputs": [
    {
     "data": {
      "text/plain": [
       "['Gulab',\n",
       " 'Roshan',\n",
       " 'Timi',\n",
       " 'Aru',\n",
       " 'Ko',\n",
       " 'Khabar',\n",
       " 'ke',\n",
       " 'chhah',\n",
       " 'Timro',\n",
       " 'naam',\n",
       " 'ke',\n",
       " 'ho',\n",
       " 'islet',\n",
       " 'aile',\n",
       " 'Samay',\n",
       " 'Pati',\n",
       " 'bhai',\n",
       " 'Kotha',\n",
       " 'ko',\n",
       " 'Hola',\n",
       " 'Kyon',\n",
       " 'masanga',\n",
       " 'Aaja',\n",
       " 'Judaa',\n",
       " 'hone',\n",
       " 'na',\n",
       " 'Jeene',\n",
       " 'pilot',\n",
       " 'time',\n",
       " 'Patti',\n",
       " 'bio',\n",
       " 'ho',\n",
       " 'ho']"
      ]
     },
     "execution_count": 7,
     "metadata": {},
     "output_type": "execute_result"
    }
   ],
   "source": [
    "with open('nepali.txt', 'w') as f:\n",
    "    for word in words:\n",
    "        f.write(word)\n",
    "    f.close()\n",
    "    "
   ]
  }
 ],
 "metadata": {
  "kernelspec": {
   "display_name": "Python 3",
   "language": "python",
   "name": "python3"
  },
  "language_info": {
   "codemirror_mode": {
    "name": "ipython",
    "version": 3
   },
   "file_extension": ".py",
   "mimetype": "text/x-python",
   "name": "python",
   "nbconvert_exporter": "python",
   "pygments_lexer": "ipython3",
   "version": "3.9.5"
  },
  "orig_nbformat": 4
 },
 "nbformat": 4,
 "nbformat_minor": 2
}

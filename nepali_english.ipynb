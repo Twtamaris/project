{
 "cells": [
  {
   "cell_type": "code",
   "execution_count": 6,
   "metadata": {},
   "outputs": [
    {
     "name": "stdout",
     "output_type": "stream",
     "text": [
      "Listening...\n",
      "You said: Gulab Roshan Timi Aru Ko Khabar ke chhah\n",
      "Listening...\n",
      "You said: Timro naam ke ho\n",
      "Listening...\n",
      "You said: islet\n",
      "Listening...\n",
      "You said: aile Samay Pati bhai Kotha\n",
      "Listening...\n",
      "You said: ko Hola Kyon masanga Aaja Judaa hone\n",
      "Listening...\n",
      "You said: na Jeene\n",
      "Listening...\n",
      "You said: pilot time Patti bio\n",
      "Listening...\n",
      "You said: ho ho\n",
      "Listening...\n",
      "You said: stop\n"
     ]
    }
   ],
   "source": [
    "import speech_recognition as sr\n",
    "from googletrans import Translator\n",
    "words = []\n",
    "\n",
    "# Initialize the recognizer\n",
    "r = sr.Recognizer()\n",
    "translator = Translator()\n",
    "\n",
    "def convert_english_to_nepali(text):\n",
    "    # Translate the text from English to Nepali\n",
    "    translated_text = translator.translate(text, src='en', dest='ne')\n",
    "    return translated_text.text\n",
    "\n",
    "\n",
    "# Set the microphone as the source\n",
    "mic = sr.Microphone()\n",
    "\n",
    "# Function to convert voice to text\n",
    "def convert_voice_to_text():\n",
    "    with mic as source:\n",
    "        # Adjust for ambient noise\n",
    "        r.adjust_for_ambient_noise(source)\n",
    "        print(\"Listening...\")\n",
    "\n",
    "        # Listen for user input\n",
    "        audio = r.listen(source)\n",
    "\n",
    "        try:\n",
    "            # Convert audio to text (Hindi language)\n",
    "            text = r.recognize_google(audio)\n",
    "            print(\"You said:\", text)\n",
    "            return text\n",
    "        except sr.UnknownValueError:\n",
    "            print(\"Sorry, I could not understand.\")\n",
    "        except sr.RequestError as e:\n",
    "            print(\"Sorry, an error occurred:\", str(e))\n",
    "\n",
    "# Continuously convert voice to text until interrupted\n",
    "while True:\n",
    "    text = convert_voice_to_text()\n",
    "    if 'stop' in text:\n",
    "        break\n",
    "    text = text.split(' ')\n",
    "    for word in text:\n",
    "        words.append(word)\n",
    "    \n",
    "\n",
    "\n",
    "    \n",
    "\n",
    "    \n"
   ]
  },
  {
   "cell_type": "code",
   "execution_count": 7,
   "metadata": {},
   "outputs": [
    {
     "data": {
      "text/plain": [
       "['Gulab',\n",
       " 'Roshan',\n",
       " 'Timi',\n",
       " 'Aru',\n",
       " 'Ko',\n",
       " 'Khabar',\n",
       " 'ke',\n",
       " 'chhah',\n",
       " 'Timro',\n",
       " 'naam',\n",
       " 'ke',\n",
       " 'ho',\n",
       " 'islet',\n",
       " 'aile',\n",
       " 'Samay',\n",
       " 'Pati',\n",
       " 'bhai',\n",
       " 'Kotha',\n",
       " 'ko',\n",
       " 'Hola',\n",
       " 'Kyon',\n",
       " 'masanga',\n",
       " 'Aaja',\n",
       " 'Judaa',\n",
       " 'hone',\n",
       " 'na',\n",
       " 'Jeene',\n",
       " 'pilot',\n",
       " 'time',\n",
       " 'Patti',\n",
       " 'bio',\n",
       " 'ho',\n",
       " 'ho']"
      ]
     },
     "execution_count": 7,
     "metadata": {},
     "output_type": "execute_result"
    }
   ],
   "source": [
    "with open"
   ]
  }
 ],
 "metadata": {
  "kernelspec": {
   "display_name": "Python 3",
   "language": "python",
   "name": "python3"
  },
  "language_info": {
   "codemirror_mode": {
    "name": "ipython",
    "version": 3
   },
   "file_extension": ".py",
   "mimetype": "text/x-python",
   "name": "python",
   "nbconvert_exporter": "python",
   "pygments_lexer": "ipython3",
   "version": "3.9.5"
  },
  "orig_nbformat": 4
 },
 "nbformat": 4,
 "nbformat_minor": 2
}

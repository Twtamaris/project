{
 "cells": [
  {
   "cell_type": "code",
   "execution_count": 49,
   "metadata": {},
   "outputs": [],
   "source": [
    "def read_words_from_file(file_path):\n",
    "    words = []\n",
    "\n",
    "    with open(file_path, 'r') as file:\n",
    "        for line in file:\n",
    "            # Split each line into words using whitespace as the delimiter\n",
    "            # line_words = line.strip().split()\n",
    "            line = line.strip()\n",
    "            words.append(line)\n",
    "            \n",
    "            # Add the words to the list\n",
    "            # words.extend(line_words)\n",
    "\n",
    "    return words"
   ]
  },
  {
   "cell_type": "code",
   "execution_count": 50,
   "metadata": {},
   "outputs": [
    {
     "name": "stdout",
     "output_type": "stream",
     "text": [
      "['ani', 'baral braille', 'bhandari', 'chha', 'ho home', 'i', 'ke', 'khabar', 'ko', 'love', 'mera mero', 'meshan', 'naam', 'nishan', 'result', 'roshan', 'saurabh', 'solove sulabh', 'tapaiko', 'tapai, thepi', 'uni', 'university', 'you', 'yunesh']\n"
     ]
    }
   ],
   "source": [
    "file_path = \"words.txt\"\n",
    "word_list = read_words_from_file(file_path)\n",
    "print(word_list)"
   ]
  },
  {
   "cell_type": "code",
   "execution_count": 51,
   "metadata": {},
   "outputs": [],
   "source": [
    "word_in_Nepali = ['आनी', 'बराल', 'भण्डारी', 'छ', 'हो', 'आई', 'के', 'खबर', 'को', 'लभ', 'मेरो', 'मिसन' , 'नाम', 'निसानत', 'परिणाम', 'रोशन', 'सौरभ', 'सुलभ', 'तपाईको', 'तपाई', 'युनि', 'युनिभर्सिटी' , 'यु', 'युनेश']"
   ]
  },
  {
   "cell_type": "code",
   "execution_count": 57,
   "metadata": {},
   "outputs": [
    {
     "ename": "SyntaxError",
     "evalue": "invalid syntax (686211316.py, line 4)",
     "output_type": "error",
     "traceback": [
      "\u001b[1;36m  Input \u001b[1;32mIn [57]\u001b[1;36m\u001b[0m\n\u001b[1;33m    words.append(word: word_in_Nepali[i])\u001b[0m\n\u001b[1;37m                     ^\u001b[0m\n\u001b[1;31mSyntaxError\u001b[0m\u001b[1;31m:\u001b[0m invalid syntax\n"
     ]
    }
   ],
   "source": [
    "# create a dictionary\n",
    "words = {}\n",
    "for i,word in word_list:\n",
    "    words.append(word: word_in_Nepali[i])"
   ]
  },
  {
   "cell_type": "code",
   "execution_count": 52,
   "metadata": {},
   "outputs": [],
   "source": [
    "words = []\n",
    "for i, word in enumerate(word_list):\n",
    "    words.append(f'{word}= {word_in_Nepali[i]}')"
   ]
  },
  {
   "cell_type": "code",
   "execution_count": 53,
   "metadata": {},
   "outputs": [
    {
     "data": {
      "text/plain": [
       "['ani= आनी',\n",
       " 'baral braille= बराल',\n",
       " 'bhandari= भण्डारी',\n",
       " 'chha= छ',\n",
       " 'ho home= हो',\n",
       " 'i= आई',\n",
       " 'ke= के',\n",
       " 'khabar= खबर',\n",
       " 'ko= को',\n",
       " 'love= लभ',\n",
       " 'mera mero= मेरो',\n",
       " 'meshan= मिसन',\n",
       " 'naam= नाम',\n",
       " 'nishan= निसानत',\n",
       " 'result= परिणाम',\n",
       " 'roshan= रोशन',\n",
       " 'saurabh= सौरभ',\n",
       " 'solove sulabh= सुलभ',\n",
       " 'tapaiko= तपाईको',\n",
       " 'tapai, thepi= तपाई',\n",
       " 'uni= युनि',\n",
       " 'university= युनिभर्सिटी',\n",
       " 'you= यु',\n",
       " 'yunesh= युनेश']"
      ]
     },
     "execution_count": 53,
     "metadata": {},
     "output_type": "execute_result"
    }
   ],
   "source": [
    "words\n",
    "        "
   ]
  },
  {
   "cell_type": "code",
   "execution_count": 54,
   "metadata": {},
   "outputs": [],
   "source": [
    "# write to file\n",
    "with open('english_nepali.txt', 'w',  encoding='utf-8') as file:\n",
    "    for item in words:\n",
    "        file.write(item + '\\n')"
   ]
  },
  {
   "cell_type": "code",
   "execution_count": 56,
   "metadata": {},
   "outputs": [
    {
     "name": "stdout",
     "output_type": "stream",
     "text": [
      "['ani']\n",
      "['baral', 'braille']\n",
      "['bhandari']\n",
      "['chha']\n",
      "['ho', 'home']\n",
      "['i']\n",
      "['ke']\n",
      "['khabar']\n",
      "['ko']\n",
      "['love']\n",
      "['mera', 'mero']\n",
      "['meshan']\n",
      "['naam']\n",
      "['nishan']\n",
      "['result']\n",
      "['roshan']\n",
      "['saurabh']\n",
      "['solove', 'sulabh']\n",
      "['tapaiko']\n",
      "['tapai,', 'thepi']\n",
      "['uni']\n",
      "['university']\n",
      "['you']\n",
      "['yunesh']\n"
     ]
    }
   ],
   "source": [
    "for word in words:\n",
    "    print(word.split('=')[0].split(' '))\n"
   ]
  },
  {
   "cell_type": "code",
   "execution_count": null,
   "metadata": {},
   "outputs": [
    {
     "data": {
      "text/plain": [
       "array(['ani= आनी', 'baral braille= बराल', 'bhandari= भण्डारी', 'chha= छ',\n",
       "       'ho home= हो', 'i= आई', 'ke= के', 'khabar= खबर', 'ko= को',\n",
       "       'love= लभ', 'mera mero= मेरो', 'meshan= मिसन', 'naam= नाम',\n",
       "       'nishan= निसानत', 'result= परिणाम', 'roshan= रोशन',\n",
       "       'saurabh= सौरभ', 'solove sulabh= सुलभ', 'tapaiko= तपाईको',\n",
       "       'tapai, thepi= तपाई', 'uni= युनि', 'university= युनिभर्सिटी',\n",
       "       'you= यु', 'yunesh= युनेश'], dtype='<U23')"
      ]
     },
     "execution_count": 30,
     "metadata": {},
     "output_type": "execute_result"
    }
   ],
   "source": [
    "arr"
   ]
  },
  {
   "cell_type": "code",
   "execution_count": null,
   "metadata": {},
   "outputs": [
    {
     "data": {
      "text/plain": [
       "(24,)"
      ]
     },
     "execution_count": 31,
     "metadata": {},
     "output_type": "execute_result"
    }
   ],
   "source": []
  }
 ],
 "metadata": {
  "kernelspec": {
   "display_name": "Python 3",
   "language": "python",
   "name": "python3"
  },
  "language_info": {
   "codemirror_mode": {
    "name": "ipython",
    "version": 3
   },
   "file_extension": ".py",
   "mimetype": "text/x-python",
   "name": "python",
   "nbconvert_exporter": "python",
   "pygments_lexer": "ipython3",
   "version": "3.9.5"
  },
  "orig_nbformat": 4
 },
 "nbformat": 4,
 "nbformat_minor": 2
}

{
 "cells": [
  {
   "cell_type": "code",
   "execution_count": 25,
   "metadata": {},
   "outputs": [],
   "source": [
    "import os\n",
    "import speech_recognition as sr\n",
    "from pydub import AudioSegment"
   ]
  },
  {
   "cell_type": "code",
   "execution_count": 26,
   "metadata": {},
   "outputs": [],
   "source": [
    "def split_audio_by_words(audio_path):\n",
    "\n",
    "    # Initialize the recognizer\n",
    "    recognizer = sr.Recognizer()\n",
    "\n",
    "    # Open the audio file\n",
    "    with sr.AudioFile(audio_path) as source:\n",
    "        audio_data = recognizer.record(source)\n",
    "\n",
    "    # Perform speech recognition on the audio\n",
    "    result = recognizer.recognize_google(audio_data)\n",
    "\n",
    "    # Split the recognized text into words\n",
    "    words = result.split()\n",
    "\n",
    "\n",
    "        \n",
    "\n",
    "    print(\"Audio splitting completed.\")\n",
    "    return words"
   ]
  },
  {
   "cell_type": "code",
   "execution_count": 27,
   "metadata": {},
   "outputs": [
    {
     "name": "stdout",
     "output_type": "stream",
     "text": [
      "Audio splitting completed.\n"
     ]
    }
   ],
   "source": [
    "audio_path = 'yoyo.wav'\n",
    "words = split_audio_by_words(audio_path)\n"
   ]
  },
  {
   "cell_type": "code",
   "execution_count": 28,
   "metadata": {},
   "outputs": [],
   "source": [
    "# Remove the same name in list\n",
    "words = list(set(words))"
   ]
  },
  {
   "cell_type": "code",
   "execution_count": 29,
   "metadata": {},
   "outputs": [],
   "source": [
    "# Arrange the list in alphabetical order\n",
    "words.sort()"
   ]
  },
  {
   "cell_type": "code",
   "execution_count": 30,
   "metadata": {},
   "outputs": [],
   "source": [
    "words = [x.lower() for x in words]"
   ]
  },
  {
   "cell_type": "code",
   "execution_count": 31,
   "metadata": {},
   "outputs": [
    {
     "data": {
      "text/plain": [
       "['baral',\n",
       " 'braille',\n",
       " 'chha',\n",
       " 'ho',\n",
       " 'i',\n",
       " 'khabar',\n",
       " 'ko',\n",
       " 'mero',\n",
       " 'naam',\n",
       " 'pi',\n",
       " 'saurabh',\n",
       " 'the',\n",
       " 'home',\n",
       " 'ke',\n",
       " 'love',\n",
       " 'mera',\n",
       " 'naam',\n",
       " 'tapai',\n",
       " 'you']"
      ]
     },
     "execution_count": 31,
     "metadata": {},
     "output_type": "execute_result"
    }
   ],
   "source": [
    "words"
   ]
  },
  {
   "cell_type": "code",
   "execution_count": 32,
   "metadata": {},
   "outputs": [],
   "source": [
    "def convert_list_to_file(words, file_path):\n",
    "    with open(file_path, 'w') as file:\n",
    "        for word in words:\n",
    "            file.write(word + '\\n')"
   ]
  },
  {
   "cell_type": "code",
   "execution_count": 33,
   "metadata": {},
   "outputs": [],
   "source": [
    "convert_list_to_file(words, 'words.txt')"
   ]
  },
  {
   "cell_type": "code",
   "execution_count": null,
   "metadata": {},
   "outputs": [],
   "source": []
  }
 ],
 "metadata": {
  "kernelspec": {
   "display_name": "Python 3",
   "language": "python",
   "name": "python3"
  },
  "language_info": {
   "codemirror_mode": {
    "name": "ipython",
    "version": 3
   },
   "file_extension": ".py",
   "mimetype": "text/x-python",
   "name": "python",
   "nbconvert_exporter": "python",
   "pygments_lexer": "ipython3",
   "version": "3.9.5"
  },
  "orig_nbformat": 4
 },
 "nbformat": 4,
 "nbformat_minor": 2
}

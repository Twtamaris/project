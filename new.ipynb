{
 "cells": [
  {
   "cell_type": "code",
   "execution_count": 1,
   "metadata": {},
   "outputs": [
    {
     "name": "stderr",
     "output_type": "stream",
     "text": [
      "c:\\Users\\baral\\AppData\\Local\\Programs\\Python\\Python39\\lib\\site-packages\\pydub\\utils.py:170: RuntimeWarning: Couldn't find ffmpeg or avconv - defaulting to ffmpeg, but may not work\n",
      "  warn(\"Couldn't find ffmpeg or avconv - defaulting to ffmpeg, but may not work\", RuntimeWarning)\n"
     ]
    }
   ],
   "source": [
    "import os\n",
    "import speech_recognition as sr\n",
    "from pydub import AudioSegment"
   ]
  },
  {
   "cell_type": "code",
   "execution_count": 27,
   "metadata": {},
   "outputs": [
    {
     "name": "stdout",
     "output_type": "stream",
     "text": [
      "Audio splitting completed.\n",
      "['mera', 'naam', 'Saurabh', 'Braille', 'Ho', 'tapai', 'Ko', 'Khabar', 'Chha', 'I', 'love', 'you', 'Mero', 'Naam', 'Saurabh', 'Baral', 'home', 'The', 'Pi', 'Ko', 'Khabar', 'I', 'love', 'you', 'Mero', 'Naam', 'Saurabh', 'Baral', 'home', 'I', 'love', 'you', 'I', 'love', 'you', 'I', 'love', 'you', 'Khabar', 'ke', 'I', 'love', 'you']\n"
     ]
    }
   ],
   "source": [
    "import speech_recognition as sr\n",
    "\n",
    "def split_audio_by_words(audio_path):\n",
    "    # Initialize the recognizer\n",
    "    recognizer = sr.Recognizer()\n",
    "\n",
    "    # Open the audio file\n",
    "    with sr.AudioFile(audio_path) as source:\n",
    "        audio_data = recognizer.record(source)\n",
    "\n",
    "    # Perform speech recognition on the audio with English language\n",
    "    result = recognizer.recognize_google(audio_data, language=\"en-US\")\n",
    "\n",
    "    # Split the recognized text into words\n",
    "    words = result.split()\n",
    "\n",
    "    print(\"Audio splitting completed.\")\n",
    "    return words\n",
    "\n",
    "# Example usage:\n",
    "audio_path = \"yoyo.wav\"\n",
    "words = split_audio_by_words(audio_path)\n",
    "print(words)\n"
   ]
  },
  {
   "cell_type": "code",
   "execution_count": 28,
   "metadata": {},
   "outputs": [
    {
     "data": {
      "text/plain": [
       "['mera',\n",
       " 'naam',\n",
       " 'Saurabh',\n",
       " 'Braille',\n",
       " 'Ho',\n",
       " 'tapai',\n",
       " 'Ko',\n",
       " 'Khabar',\n",
       " 'Chha',\n",
       " 'I',\n",
       " 'love',\n",
       " 'you',\n",
       " 'Mero',\n",
       " 'Naam',\n",
       " 'Saurabh',\n",
       " 'Baral',\n",
       " 'home',\n",
       " 'The',\n",
       " 'Pi',\n",
       " 'Ko',\n",
       " 'Khabar',\n",
       " 'I',\n",
       " 'love',\n",
       " 'you',\n",
       " 'Mero',\n",
       " 'Naam',\n",
       " 'Saurabh',\n",
       " 'Baral',\n",
       " 'home',\n",
       " 'I',\n",
       " 'love',\n",
       " 'you',\n",
       " 'I',\n",
       " 'love',\n",
       " 'you',\n",
       " 'I',\n",
       " 'love',\n",
       " 'you',\n",
       " 'Khabar',\n",
       " 'ke',\n",
       " 'I',\n",
       " 'love',\n",
       " 'you']"
      ]
     },
     "execution_count": 28,
     "metadata": {},
     "output_type": "execute_result"
    }
   ],
   "source": [
    "words"
   ]
  },
  {
   "cell_type": "code",
   "execution_count": 29,
   "metadata": {},
   "outputs": [],
   "source": [
    "# Remove the same name in list\n",
    "words = list(set(words))"
   ]
  },
  {
   "cell_type": "code",
   "execution_count": 30,
   "metadata": {},
   "outputs": [],
   "source": [
    "# Arrange the list in alphabetical order\n",
    "words.sort()"
   ]
  },
  {
   "cell_type": "code",
   "execution_count": 31,
   "metadata": {},
   "outputs": [],
   "source": [
    "words = [x.lower() for x in words]"
   ]
  },
  {
   "cell_type": "code",
   "execution_count": 32,
   "metadata": {},
   "outputs": [
    {
     "data": {
      "text/plain": [
       "['baral',\n",
       " 'braille',\n",
       " 'chha',\n",
       " 'ho',\n",
       " 'i',\n",
       " 'khabar',\n",
       " 'ko',\n",
       " 'mero',\n",
       " 'naam',\n",
       " 'pi',\n",
       " 'saurabh',\n",
       " 'the',\n",
       " 'home',\n",
       " 'ke',\n",
       " 'love',\n",
       " 'mera',\n",
       " 'naam',\n",
       " 'tapai',\n",
       " 'you']"
      ]
     },
     "execution_count": 32,
     "metadata": {},
     "output_type": "execute_result"
    }
   ],
   "source": [
    "words"
   ]
  },
  {
   "cell_type": "code",
   "execution_count": 33,
   "metadata": {},
   "outputs": [],
   "source": [
    "def convert_list_to_file(words, file_path):\n",
    "    with open(file_path, 'a') as file:\n",
    "        for word in words:\n",
    "            file.write(word + '\\n')"
   ]
  },
  {
   "cell_type": "code",
   "execution_count": 34,
   "metadata": {},
   "outputs": [],
   "source": [
    "convert_list_to_file(words, 'words.txt')"
   ]
  },
  {
   "cell_type": "code",
   "execution_count": 35,
   "metadata": {},
   "outputs": [],
   "source": [
    "def remove_duplicate_names(file_path):\n",
    "    with open(file_path, 'r') as file:\n",
    "        lines = file.read().splitlines()\n",
    "        \n",
    "    unique_names = list(set(lines))\n",
    "    unique_names.sort()\n",
    "    with open(file_path, 'w') as file:\n",
    "        for name in unique_names:\n",
    "            file.write(name + '\\n')"
   ]
  },
  {
   "cell_type": "code",
   "execution_count": 36,
   "metadata": {},
   "outputs": [],
   "source": [
    "remove_duplicate_names('words.txt')"
   ]
  },
  {
   "cell_type": "code",
   "execution_count": 37,
   "metadata": {},
   "outputs": [],
   "source": [
    "# import speech_recognition as sr\n",
    "\n",
    "# def transcribe_audio(audio_path):\n",
    "#     # Initialize the recognizer\n",
    "#     recognizer = sr.Recognizer()\n",
    "\n",
    "#     # Open the audio file\n",
    "#     with sr.AudioFile(audio_path) as source:\n",
    "#         audio_data = recognizer.record(source)\n",
    "\n",
    "#     # Perform speech recognition on the audio\n",
    "#     try:\n",
    "#         transcribed_text = recognizer.recognize_google(audio_data)\n",
    "#         print(\"Transcription: \", transcribed_text)\n",
    "#     except sr.UnknownValueError:\n",
    "#         print(\"Speech recognition could not understand audio\")\n",
    "#     except sr.RequestError as e:\n",
    "#         print(\"Could not request results from speech recognition service; {0}\".format(e))\n",
    "\n",
    "# # Example usage:\n",
    "# audio_path = \"yoyo.wav\"\n",
    "# transcribe_audio(audio_path)\n"
   ]
  }
 ],
 "metadata": {
  "kernelspec": {
   "display_name": "Python 3",
   "language": "python",
   "name": "python3"
  },
  "language_info": {
   "codemirror_mode": {
    "name": "ipython",
    "version": 3
   },
   "file_extension": ".py",
   "mimetype": "text/x-python",
   "name": "python",
   "nbconvert_exporter": "python",
   "pygments_lexer": "ipython3",
   "version": "3.9.5"
  },
  "orig_nbformat": 4
 },
 "nbformat": 4,
 "nbformat_minor": 2
}
